{
  "nbformat": 4,
  "nbformat_minor": 0,
  "metadata": {
    "accelerator": "GPU",
    "colab": {
      "provenance": [],
      "collapsed_sections": []
    },
    "kernelspec": {
      "display_name": "Python 3",
      "language": "python",
      "name": "python3"
    },
    "language_info": {
      "codemirror_mode": {
        "name": "ipython",
        "version": 3
      },
      "file_extension": ".py",
      "mimetype": "text/x-python",
      "name": "python",
      "nbconvert_exporter": "python",
      "pygments_lexer": "ipython3",
      "version": "3.6.4"
    },
    "widgets": {
      "application/vnd.jupyter.widget-state+json": {
        "de436d7e478f4613bed68edf038be9e1": {
          "model_module": "@jupyter-widgets/controls",
          "model_name": "HBoxModel",
          "state": {
            "_view_name": "HBoxView",
            "_dom_classes": [],
            "_model_name": "HBoxModel",
            "_view_module": "@jupyter-widgets/controls",
            "_model_module_version": "1.5.0",
            "_view_count": null,
            "_view_module_version": "1.5.0",
            "box_style": "",
            "layout": "IPY_MODEL_9b3de21e5492420189328cba1de59d49",
            "_model_module": "@jupyter-widgets/controls",
            "children": [
              "IPY_MODEL_8b017e11617c4e7c970c51fb5e28a794",
              "IPY_MODEL_525414c838954eb69dc11fe51e396d96"
            ]
          },
          "model_module_version": "1.5.0"
        },
        "9b3de21e5492420189328cba1de59d49": {
          "model_module": "@jupyter-widgets/base",
          "model_name": "LayoutModel",
          "state": {
            "_view_name": "LayoutView",
            "grid_template_rows": null,
            "right": null,
            "justify_content": null,
            "_view_module": "@jupyter-widgets/base",
            "overflow": null,
            "_model_module_version": "1.2.0",
            "_view_count": null,
            "flex_flow": null,
            "width": null,
            "min_width": null,
            "border": null,
            "align_items": null,
            "bottom": null,
            "_model_module": "@jupyter-widgets/base",
            "top": null,
            "grid_column": null,
            "overflow_y": null,
            "overflow_x": null,
            "grid_auto_flow": null,
            "grid_area": null,
            "grid_template_columns": null,
            "flex": null,
            "_model_name": "LayoutModel",
            "justify_items": null,
            "grid_row": null,
            "max_height": null,
            "align_content": null,
            "visibility": null,
            "align_self": null,
            "height": null,
            "min_height": null,
            "padding": null,
            "grid_auto_rows": null,
            "grid_gap": null,
            "max_width": null,
            "order": null,
            "_view_module_version": "1.2.0",
            "grid_template_areas": null,
            "object_position": null,
            "object_fit": null,
            "grid_auto_columns": null,
            "margin": null,
            "display": null,
            "left": null
          },
          "model_module_version": "1.2.0"
        },
        "8b017e11617c4e7c970c51fb5e28a794": {
          "model_module": "@jupyter-widgets/controls",
          "model_name": "FloatProgressModel",
          "state": {
            "_view_name": "ProgressView",
            "style": "IPY_MODEL_cce306733cc94d71b7f3f8b8d859c81f",
            "_dom_classes": [],
            "description": "Downloading: 100%",
            "_model_name": "FloatProgressModel",
            "bar_style": "success",
            "max": 231508,
            "_view_module": "@jupyter-widgets/controls",
            "_model_module_version": "1.5.0",
            "value": 231508,
            "_view_count": null,
            "_view_module_version": "1.5.0",
            "orientation": "horizontal",
            "min": 0,
            "description_tooltip": null,
            "_model_module": "@jupyter-widgets/controls",
            "layout": "IPY_MODEL_6a7c75c5851c43eab71500a5cfd09105"
          },
          "model_module_version": "1.5.0"
        },
        "525414c838954eb69dc11fe51e396d96": {
          "model_module": "@jupyter-widgets/controls",
          "model_name": "HTMLModel",
          "state": {
            "_view_name": "HTMLView",
            "style": "IPY_MODEL_9d1bd548668a4edab95c7fd3d15a74a0",
            "_dom_classes": [],
            "description": "",
            "_model_name": "HTMLModel",
            "placeholder": "​",
            "_view_module": "@jupyter-widgets/controls",
            "_model_module_version": "1.5.0",
            "value": " 232k/232k [00:25&lt;00:00, 9.14kB/s]",
            "_view_count": null,
            "_view_module_version": "1.5.0",
            "description_tooltip": null,
            "_model_module": "@jupyter-widgets/controls",
            "layout": "IPY_MODEL_244051e2e2b241ec843f94102124b186"
          },
          "model_module_version": "1.5.0"
        },
        "cce306733cc94d71b7f3f8b8d859c81f": {
          "model_module": "@jupyter-widgets/controls",
          "model_name": "ProgressStyleModel",
          "state": {
            "_view_name": "StyleView",
            "_model_name": "ProgressStyleModel",
            "description_width": "initial",
            "_view_module": "@jupyter-widgets/base",
            "_model_module_version": "1.5.0",
            "_view_count": null,
            "_view_module_version": "1.2.0",
            "bar_color": null,
            "_model_module": "@jupyter-widgets/controls"
          },
          "model_module_version": "1.5.0"
        },
        "6a7c75c5851c43eab71500a5cfd09105": {
          "model_module": "@jupyter-widgets/base",
          "model_name": "LayoutModel",
          "state": {
            "_view_name": "LayoutView",
            "grid_template_rows": null,
            "right": null,
            "justify_content": null,
            "_view_module": "@jupyter-widgets/base",
            "overflow": null,
            "_model_module_version": "1.2.0",
            "_view_count": null,
            "flex_flow": null,
            "width": null,
            "min_width": null,
            "border": null,
            "align_items": null,
            "bottom": null,
            "_model_module": "@jupyter-widgets/base",
            "top": null,
            "grid_column": null,
            "overflow_y": null,
            "overflow_x": null,
            "grid_auto_flow": null,
            "grid_area": null,
            "grid_template_columns": null,
            "flex": null,
            "_model_name": "LayoutModel",
            "justify_items": null,
            "grid_row": null,
            "max_height": null,
            "align_content": null,
            "visibility": null,
            "align_self": null,
            "height": null,
            "min_height": null,
            "padding": null,
            "grid_auto_rows": null,
            "grid_gap": null,
            "max_width": null,
            "order": null,
            "_view_module_version": "1.2.0",
            "grid_template_areas": null,
            "object_position": null,
            "object_fit": null,
            "grid_auto_columns": null,
            "margin": null,
            "display": null,
            "left": null
          },
          "model_module_version": "1.2.0"
        },
        "9d1bd548668a4edab95c7fd3d15a74a0": {
          "model_module": "@jupyter-widgets/controls",
          "model_name": "DescriptionStyleModel",
          "state": {
            "_view_name": "StyleView",
            "_model_name": "DescriptionStyleModel",
            "description_width": "",
            "_view_module": "@jupyter-widgets/base",
            "_model_module_version": "1.5.0",
            "_view_count": null,
            "_view_module_version": "1.2.0",
            "_model_module": "@jupyter-widgets/controls"
          },
          "model_module_version": "1.5.0"
        },
        "244051e2e2b241ec843f94102124b186": {
          "model_module": "@jupyter-widgets/base",
          "model_name": "LayoutModel",
          "state": {
            "_view_name": "LayoutView",
            "grid_template_rows": null,
            "right": null,
            "justify_content": null,
            "_view_module": "@jupyter-widgets/base",
            "overflow": null,
            "_model_module_version": "1.2.0",
            "_view_count": null,
            "flex_flow": null,
            "width": null,
            "min_width": null,
            "border": null,
            "align_items": null,
            "bottom": null,
            "_model_module": "@jupyter-widgets/base",
            "top": null,
            "grid_column": null,
            "overflow_y": null,
            "overflow_x": null,
            "grid_auto_flow": null,
            "grid_area": null,
            "grid_template_columns": null,
            "flex": null,
            "_model_name": "LayoutModel",
            "justify_items": null,
            "grid_row": null,
            "max_height": null,
            "align_content": null,
            "visibility": null,
            "align_self": null,
            "height": null,
            "min_height": null,
            "padding": null,
            "grid_auto_rows": null,
            "grid_gap": null,
            "max_width": null,
            "order": null,
            "_view_module_version": "1.2.0",
            "grid_template_areas": null,
            "object_position": null,
            "object_fit": null,
            "grid_auto_columns": null,
            "margin": null,
            "display": null,
            "left": null
          },
          "model_module_version": "1.2.0"
        },
        "f00ef2394d334a3aa7da76750ab34888": {
          "model_module": "@jupyter-widgets/controls",
          "model_name": "HBoxModel",
          "state": {
            "_view_name": "HBoxView",
            "_dom_classes": [],
            "_model_name": "HBoxModel",
            "_view_module": "@jupyter-widgets/controls",
            "_model_module_version": "1.5.0",
            "_view_count": null,
            "_view_module_version": "1.5.0",
            "box_style": "",
            "layout": "IPY_MODEL_24e24ec6f2ea40b7b52e91bd36ef7515",
            "_model_module": "@jupyter-widgets/controls",
            "children": [
              "IPY_MODEL_569791cab37b48ffaec443ab3b555321",
              "IPY_MODEL_c3bd8506ee5c4bbebebe2494879ce0ac"
            ]
          },
          "model_module_version": "1.5.0"
        },
        "24e24ec6f2ea40b7b52e91bd36ef7515": {
          "model_module": "@jupyter-widgets/base",
          "model_name": "LayoutModel",
          "state": {
            "_view_name": "LayoutView",
            "grid_template_rows": null,
            "right": null,
            "justify_content": null,
            "_view_module": "@jupyter-widgets/base",
            "overflow": null,
            "_model_module_version": "1.2.0",
            "_view_count": null,
            "flex_flow": null,
            "width": null,
            "min_width": null,
            "border": null,
            "align_items": null,
            "bottom": null,
            "_model_module": "@jupyter-widgets/base",
            "top": null,
            "grid_column": null,
            "overflow_y": null,
            "overflow_x": null,
            "grid_auto_flow": null,
            "grid_area": null,
            "grid_template_columns": null,
            "flex": null,
            "_model_name": "LayoutModel",
            "justify_items": null,
            "grid_row": null,
            "max_height": null,
            "align_content": null,
            "visibility": null,
            "align_self": null,
            "height": null,
            "min_height": null,
            "padding": null,
            "grid_auto_rows": null,
            "grid_gap": null,
            "max_width": null,
            "order": null,
            "_view_module_version": "1.2.0",
            "grid_template_areas": null,
            "object_position": null,
            "object_fit": null,
            "grid_auto_columns": null,
            "margin": null,
            "display": null,
            "left": null
          },
          "model_module_version": "1.2.0"
        },
        "569791cab37b48ffaec443ab3b555321": {
          "model_module": "@jupyter-widgets/controls",
          "model_name": "FloatProgressModel",
          "state": {
            "_view_name": "ProgressView",
            "style": "IPY_MODEL_40a77592f98941e09b885dd5f5da689b",
            "_dom_classes": [],
            "description": "Downloading: 100%",
            "_model_name": "FloatProgressModel",
            "bar_style": "success",
            "max": 466062,
            "_view_module": "@jupyter-widgets/controls",
            "_model_module_version": "1.5.0",
            "value": 466062,
            "_view_count": null,
            "_view_module_version": "1.5.0",
            "orientation": "horizontal",
            "min": 0,
            "description_tooltip": null,
            "_model_module": "@jupyter-widgets/controls",
            "layout": "IPY_MODEL_b4c52474c47b453382f1f1be89583b8d"
          },
          "model_module_version": "1.5.0"
        },
        "c3bd8506ee5c4bbebebe2494879ce0ac": {
          "model_module": "@jupyter-widgets/controls",
          "model_name": "HTMLModel",
          "state": {
            "_view_name": "HTMLView",
            "style": "IPY_MODEL_e43f9d921f4940eda1d9be7298586e7d",
            "_dom_classes": [],
            "description": "",
            "_model_name": "HTMLModel",
            "placeholder": "​",
            "_view_module": "@jupyter-widgets/controls",
            "_model_module_version": "1.5.0",
            "value": " 466k/466k [00:09&lt;00:00, 51.6kB/s]",
            "_view_count": null,
            "_view_module_version": "1.5.0",
            "description_tooltip": null,
            "_model_module": "@jupyter-widgets/controls",
            "layout": "IPY_MODEL_cdd3ea5a38934db5a2ca09b866f3b69f"
          },
          "model_module_version": "1.5.0"
        },
        "40a77592f98941e09b885dd5f5da689b": {
          "model_module": "@jupyter-widgets/controls",
          "model_name": "ProgressStyleModel",
          "state": {
            "_view_name": "StyleView",
            "_model_name": "ProgressStyleModel",
            "description_width": "initial",
            "_view_module": "@jupyter-widgets/base",
            "_model_module_version": "1.5.0",
            "_view_count": null,
            "_view_module_version": "1.2.0",
            "bar_color": null,
            "_model_module": "@jupyter-widgets/controls"
          },
          "model_module_version": "1.5.0"
        },
        "b4c52474c47b453382f1f1be89583b8d": {
          "model_module": "@jupyter-widgets/base",
          "model_name": "LayoutModel",
          "state": {
            "_view_name": "LayoutView",
            "grid_template_rows": null,
            "right": null,
            "justify_content": null,
            "_view_module": "@jupyter-widgets/base",
            "overflow": null,
            "_model_module_version": "1.2.0",
            "_view_count": null,
            "flex_flow": null,
            "width": null,
            "min_width": null,
            "border": null,
            "align_items": null,
            "bottom": null,
            "_model_module": "@jupyter-widgets/base",
            "top": null,
            "grid_column": null,
            "overflow_y": null,
            "overflow_x": null,
            "grid_auto_flow": null,
            "grid_area": null,
            "grid_template_columns": null,
            "flex": null,
            "_model_name": "LayoutModel",
            "justify_items": null,
            "grid_row": null,
            "max_height": null,
            "align_content": null,
            "visibility": null,
            "align_self": null,
            "height": null,
            "min_height": null,
            "padding": null,
            "grid_auto_rows": null,
            "grid_gap": null,
            "max_width": null,
            "order": null,
            "_view_module_version": "1.2.0",
            "grid_template_areas": null,
            "object_position": null,
            "object_fit": null,
            "grid_auto_columns": null,
            "margin": null,
            "display": null,
            "left": null
          },
          "model_module_version": "1.2.0"
        },
        "e43f9d921f4940eda1d9be7298586e7d": {
          "model_module": "@jupyter-widgets/controls",
          "model_name": "DescriptionStyleModel",
          "state": {
            "_view_name": "StyleView",
            "_model_name": "DescriptionStyleModel",
            "description_width": "",
            "_view_module": "@jupyter-widgets/base",
            "_model_module_version": "1.5.0",
            "_view_count": null,
            "_view_module_version": "1.2.0",
            "_model_module": "@jupyter-widgets/controls"
          },
          "model_module_version": "1.5.0"
        },
        "cdd3ea5a38934db5a2ca09b866f3b69f": {
          "model_module": "@jupyter-widgets/base",
          "model_name": "LayoutModel",
          "state": {
            "_view_name": "LayoutView",
            "grid_template_rows": null,
            "right": null,
            "justify_content": null,
            "_view_module": "@jupyter-widgets/base",
            "overflow": null,
            "_model_module_version": "1.2.0",
            "_view_count": null,
            "flex_flow": null,
            "width": null,
            "min_width": null,
            "border": null,
            "align_items": null,
            "bottom": null,
            "_model_module": "@jupyter-widgets/base",
            "top": null,
            "grid_column": null,
            "overflow_y": null,
            "overflow_x": null,
            "grid_auto_flow": null,
            "grid_area": null,
            "grid_template_columns": null,
            "flex": null,
            "_model_name": "LayoutModel",
            "justify_items": null,
            "grid_row": null,
            "max_height": null,
            "align_content": null,
            "visibility": null,
            "align_self": null,
            "height": null,
            "min_height": null,
            "padding": null,
            "grid_auto_rows": null,
            "grid_gap": null,
            "max_width": null,
            "order": null,
            "_view_module_version": "1.2.0",
            "grid_template_areas": null,
            "object_position": null,
            "object_fit": null,
            "grid_auto_columns": null,
            "margin": null,
            "display": null,
            "left": null
          },
          "model_module_version": "1.2.0"
        },
        "a41dfe0421e04e69a2eae1ea39ac47af": {
          "model_module": "@jupyter-widgets/controls",
          "model_name": "HBoxModel",
          "state": {
            "_view_name": "HBoxView",
            "_dom_classes": [],
            "_model_name": "HBoxModel",
            "_view_module": "@jupyter-widgets/controls",
            "_model_module_version": "1.5.0",
            "_view_count": null,
            "_view_module_version": "1.5.0",
            "box_style": "",
            "layout": "IPY_MODEL_6c0838e3539a418684f9e2485611aa1f",
            "_model_module": "@jupyter-widgets/controls",
            "children": [
              "IPY_MODEL_733129eac8fe438eb9c9a4ee26c59169",
              "IPY_MODEL_d4cad73958984de5b02fc0b985df226c"
            ]
          },
          "model_module_version": "1.5.0"
        },
        "6c0838e3539a418684f9e2485611aa1f": {
          "model_module": "@jupyter-widgets/base",
          "model_name": "LayoutModel",
          "state": {
            "_view_name": "LayoutView",
            "grid_template_rows": null,
            "right": null,
            "justify_content": null,
            "_view_module": "@jupyter-widgets/base",
            "overflow": null,
            "_model_module_version": "1.2.0",
            "_view_count": null,
            "flex_flow": null,
            "width": null,
            "min_width": null,
            "border": null,
            "align_items": null,
            "bottom": null,
            "_model_module": "@jupyter-widgets/base",
            "top": null,
            "grid_column": null,
            "overflow_y": null,
            "overflow_x": null,
            "grid_auto_flow": null,
            "grid_area": null,
            "grid_template_columns": null,
            "flex": null,
            "_model_name": "LayoutModel",
            "justify_items": null,
            "grid_row": null,
            "max_height": null,
            "align_content": null,
            "visibility": null,
            "align_self": null,
            "height": null,
            "min_height": null,
            "padding": null,
            "grid_auto_rows": null,
            "grid_gap": null,
            "max_width": null,
            "order": null,
            "_view_module_version": "1.2.0",
            "grid_template_areas": null,
            "object_position": null,
            "object_fit": null,
            "grid_auto_columns": null,
            "margin": null,
            "display": null,
            "left": null
          },
          "model_module_version": "1.2.0"
        },
        "733129eac8fe438eb9c9a4ee26c59169": {
          "model_module": "@jupyter-widgets/controls",
          "model_name": "FloatProgressModel",
          "state": {
            "_view_name": "ProgressView",
            "style": "IPY_MODEL_b0ba4f04d1af4a6faf66552af5795d82",
            "_dom_classes": [],
            "description": "Downloading: 100%",
            "_model_name": "FloatProgressModel",
            "bar_style": "success",
            "max": 433,
            "_view_module": "@jupyter-widgets/controls",
            "_model_module_version": "1.5.0",
            "value": 433,
            "_view_count": null,
            "_view_module_version": "1.5.0",
            "orientation": "horizontal",
            "min": 0,
            "description_tooltip": null,
            "_model_module": "@jupyter-widgets/controls",
            "layout": "IPY_MODEL_b46c931af07f4f2aa825864437af5cdf"
          },
          "model_module_version": "1.5.0"
        },
        "d4cad73958984de5b02fc0b985df226c": {
          "model_module": "@jupyter-widgets/controls",
          "model_name": "HTMLModel",
          "state": {
            "_view_name": "HTMLView",
            "style": "IPY_MODEL_95c06a30d6664fdcafeede256cae6a51",
            "_dom_classes": [],
            "description": "",
            "_model_name": "HTMLModel",
            "placeholder": "​",
            "_view_module": "@jupyter-widgets/controls",
            "_model_module_version": "1.5.0",
            "value": " 433/433 [00:00&lt;00:00, 1.16kB/s]",
            "_view_count": null,
            "_view_module_version": "1.5.0",
            "description_tooltip": null,
            "_model_module": "@jupyter-widgets/controls",
            "layout": "IPY_MODEL_34510feec7dc41a888db3c15de104117"
          },
          "model_module_version": "1.5.0"
        },
        "b0ba4f04d1af4a6faf66552af5795d82": {
          "model_module": "@jupyter-widgets/controls",
          "model_name": "ProgressStyleModel",
          "state": {
            "_view_name": "StyleView",
            "_model_name": "ProgressStyleModel",
            "description_width": "initial",
            "_view_module": "@jupyter-widgets/base",
            "_model_module_version": "1.5.0",
            "_view_count": null,
            "_view_module_version": "1.2.0",
            "bar_color": null,
            "_model_module": "@jupyter-widgets/controls"
          },
          "model_module_version": "1.5.0"
        },
        "b46c931af07f4f2aa825864437af5cdf": {
          "model_module": "@jupyter-widgets/base",
          "model_name": "LayoutModel",
          "state": {
            "_view_name": "LayoutView",
            "grid_template_rows": null,
            "right": null,
            "justify_content": null,
            "_view_module": "@jupyter-widgets/base",
            "overflow": null,
            "_model_module_version": "1.2.0",
            "_view_count": null,
            "flex_flow": null,
            "width": null,
            "min_width": null,
            "border": null,
            "align_items": null,
            "bottom": null,
            "_model_module": "@jupyter-widgets/base",
            "top": null,
            "grid_column": null,
            "overflow_y": null,
            "overflow_x": null,
            "grid_auto_flow": null,
            "grid_area": null,
            "grid_template_columns": null,
            "flex": null,
            "_model_name": "LayoutModel",
            "justify_items": null,
            "grid_row": null,
            "max_height": null,
            "align_content": null,
            "visibility": null,
            "align_self": null,
            "height": null,
            "min_height": null,
            "padding": null,
            "grid_auto_rows": null,
            "grid_gap": null,
            "max_width": null,
            "order": null,
            "_view_module_version": "1.2.0",
            "grid_template_areas": null,
            "object_position": null,
            "object_fit": null,
            "grid_auto_columns": null,
            "margin": null,
            "display": null,
            "left": null
          },
          "model_module_version": "1.2.0"
        },
        "95c06a30d6664fdcafeede256cae6a51": {
          "model_module": "@jupyter-widgets/controls",
          "model_name": "DescriptionStyleModel",
          "state": {
            "_view_name": "StyleView",
            "_model_name": "DescriptionStyleModel",
            "description_width": "",
            "_view_module": "@jupyter-widgets/base",
            "_model_module_version": "1.5.0",
            "_view_count": null,
            "_view_module_version": "1.2.0",
            "_model_module": "@jupyter-widgets/controls"
          },
          "model_module_version": "1.5.0"
        },
        "34510feec7dc41a888db3c15de104117": {
          "model_module": "@jupyter-widgets/base",
          "model_name": "LayoutModel",
          "state": {
            "_view_name": "LayoutView",
            "grid_template_rows": null,
            "right": null,
            "justify_content": null,
            "_view_module": "@jupyter-widgets/base",
            "overflow": null,
            "_model_module_version": "1.2.0",
            "_view_count": null,
            "flex_flow": null,
            "width": null,
            "min_width": null,
            "border": null,
            "align_items": null,
            "bottom": null,
            "_model_module": "@jupyter-widgets/base",
            "top": null,
            "grid_column": null,
            "overflow_y": null,
            "overflow_x": null,
            "grid_auto_flow": null,
            "grid_area": null,
            "grid_template_columns": null,
            "flex": null,
            "_model_name": "LayoutModel",
            "justify_items": null,
            "grid_row": null,
            "max_height": null,
            "align_content": null,
            "visibility": null,
            "align_self": null,
            "height": null,
            "min_height": null,
            "padding": null,
            "grid_auto_rows": null,
            "grid_gap": null,
            "max_width": null,
            "order": null,
            "_view_module_version": "1.2.0",
            "grid_template_areas": null,
            "object_position": null,
            "object_fit": null,
            "grid_auto_columns": null,
            "margin": null,
            "display": null,
            "left": null
          },
          "model_module_version": "1.2.0"
        },
        "4acaa12636d0442592bce7c4dbdd09d4": {
          "model_module": "@jupyter-widgets/controls",
          "model_name": "HBoxModel",
          "state": {
            "_view_name": "HBoxView",
            "_dom_classes": [],
            "_model_name": "HBoxModel",
            "_view_module": "@jupyter-widgets/controls",
            "_model_module_version": "1.5.0",
            "_view_count": null,
            "_view_module_version": "1.5.0",
            "box_style": "",
            "layout": "IPY_MODEL_46990a238b9548a8a3e4bd289f56c9e4",
            "_model_module": "@jupyter-widgets/controls",
            "children": [
              "IPY_MODEL_6ca2a3147e074003b4724b07b0f80456",
              "IPY_MODEL_d86bcf68dfe641dca939f4e2dfee6fe9"
            ]
          },
          "model_module_version": "1.5.0"
        },
        "46990a238b9548a8a3e4bd289f56c9e4": {
          "model_module": "@jupyter-widgets/base",
          "model_name": "LayoutModel",
          "state": {
            "_view_name": "LayoutView",
            "grid_template_rows": null,
            "right": null,
            "justify_content": null,
            "_view_module": "@jupyter-widgets/base",
            "overflow": null,
            "_model_module_version": "1.2.0",
            "_view_count": null,
            "flex_flow": null,
            "width": null,
            "min_width": null,
            "border": null,
            "align_items": null,
            "bottom": null,
            "_model_module": "@jupyter-widgets/base",
            "top": null,
            "grid_column": null,
            "overflow_y": null,
            "overflow_x": null,
            "grid_auto_flow": null,
            "grid_area": null,
            "grid_template_columns": null,
            "flex": null,
            "_model_name": "LayoutModel",
            "justify_items": null,
            "grid_row": null,
            "max_height": null,
            "align_content": null,
            "visibility": null,
            "align_self": null,
            "height": null,
            "min_height": null,
            "padding": null,
            "grid_auto_rows": null,
            "grid_gap": null,
            "max_width": null,
            "order": null,
            "_view_module_version": "1.2.0",
            "grid_template_areas": null,
            "object_position": null,
            "object_fit": null,
            "grid_auto_columns": null,
            "margin": null,
            "display": null,
            "left": null
          },
          "model_module_version": "1.2.0"
        },
        "6ca2a3147e074003b4724b07b0f80456": {
          "model_module": "@jupyter-widgets/controls",
          "model_name": "FloatProgressModel",
          "state": {
            "_view_name": "ProgressView",
            "style": "IPY_MODEL_82ef3b9337af480d82ac77f4244cdf30",
            "_dom_classes": [],
            "description": "Downloading: 100%",
            "_model_name": "FloatProgressModel",
            "bar_style": "success",
            "max": 440473133,
            "_view_module": "@jupyter-widgets/controls",
            "_model_module_version": "1.5.0",
            "value": 440473133,
            "_view_count": null,
            "_view_module_version": "1.5.0",
            "orientation": "horizontal",
            "min": 0,
            "description_tooltip": null,
            "_model_module": "@jupyter-widgets/controls",
            "layout": "IPY_MODEL_b198a139702c43b09daff80ec8a6f1f1"
          },
          "model_module_version": "1.5.0"
        },
        "d86bcf68dfe641dca939f4e2dfee6fe9": {
          "model_module": "@jupyter-widgets/controls",
          "model_name": "HTMLModel",
          "state": {
            "_view_name": "HTMLView",
            "style": "IPY_MODEL_2226862e11b7428db043440dbd99f38b",
            "_dom_classes": [],
            "description": "",
            "_model_name": "HTMLModel",
            "placeholder": "​",
            "_view_module": "@jupyter-widgets/controls",
            "_model_module_version": "1.5.0",
            "value": " 440M/440M [00:11&lt;00:00, 38.8MB/s]",
            "_view_count": null,
            "_view_module_version": "1.5.0",
            "description_tooltip": null,
            "_model_module": "@jupyter-widgets/controls",
            "layout": "IPY_MODEL_20ed4555b8ca42b38e630ce07b90022c"
          },
          "model_module_version": "1.5.0"
        },
        "82ef3b9337af480d82ac77f4244cdf30": {
          "model_module": "@jupyter-widgets/controls",
          "model_name": "ProgressStyleModel",
          "state": {
            "_view_name": "StyleView",
            "_model_name": "ProgressStyleModel",
            "description_width": "initial",
            "_view_module": "@jupyter-widgets/base",
            "_model_module_version": "1.5.0",
            "_view_count": null,
            "_view_module_version": "1.2.0",
            "bar_color": null,
            "_model_module": "@jupyter-widgets/controls"
          },
          "model_module_version": "1.5.0"
        },
        "b198a139702c43b09daff80ec8a6f1f1": {
          "model_module": "@jupyter-widgets/base",
          "model_name": "LayoutModel",
          "state": {
            "_view_name": "LayoutView",
            "grid_template_rows": null,
            "right": null,
            "justify_content": null,
            "_view_module": "@jupyter-widgets/base",
            "overflow": null,
            "_model_module_version": "1.2.0",
            "_view_count": null,
            "flex_flow": null,
            "width": null,
            "min_width": null,
            "border": null,
            "align_items": null,
            "bottom": null,
            "_model_module": "@jupyter-widgets/base",
            "top": null,
            "grid_column": null,
            "overflow_y": null,
            "overflow_x": null,
            "grid_auto_flow": null,
            "grid_area": null,
            "grid_template_columns": null,
            "flex": null,
            "_model_name": "LayoutModel",
            "justify_items": null,
            "grid_row": null,
            "max_height": null,
            "align_content": null,
            "visibility": null,
            "align_self": null,
            "height": null,
            "min_height": null,
            "padding": null,
            "grid_auto_rows": null,
            "grid_gap": null,
            "max_width": null,
            "order": null,
            "_view_module_version": "1.2.0",
            "grid_template_areas": null,
            "object_position": null,
            "object_fit": null,
            "grid_auto_columns": null,
            "margin": null,
            "display": null,
            "left": null
          },
          "model_module_version": "1.2.0"
        },
        "2226862e11b7428db043440dbd99f38b": {
          "model_module": "@jupyter-widgets/controls",
          "model_name": "DescriptionStyleModel",
          "state": {
            "_view_name": "StyleView",
            "_model_name": "DescriptionStyleModel",
            "description_width": "",
            "_view_module": "@jupyter-widgets/base",
            "_model_module_version": "1.5.0",
            "_view_count": null,
            "_view_module_version": "1.2.0",
            "_model_module": "@jupyter-widgets/controls"
          },
          "model_module_version": "1.5.0"
        },
        "20ed4555b8ca42b38e630ce07b90022c": {
          "model_module": "@jupyter-widgets/base",
          "model_name": "LayoutModel",
          "state": {
            "_view_name": "LayoutView",
            "grid_template_rows": null,
            "right": null,
            "justify_content": null,
            "_view_module": "@jupyter-widgets/base",
            "overflow": null,
            "_model_module_version": "1.2.0",
            "_view_count": null,
            "flex_flow": null,
            "width": null,
            "min_width": null,
            "border": null,
            "align_items": null,
            "bottom": null,
            "_model_module": "@jupyter-widgets/base",
            "top": null,
            "grid_column": null,
            "overflow_y": null,
            "overflow_x": null,
            "grid_auto_flow": null,
            "grid_area": null,
            "grid_template_columns": null,
            "flex": null,
            "_model_name": "LayoutModel",
            "justify_items": null,
            "grid_row": null,
            "max_height": null,
            "align_content": null,
            "visibility": null,
            "align_self": null,
            "height": null,
            "min_height": null,
            "padding": null,
            "grid_auto_rows": null,
            "grid_gap": null,
            "max_width": null,
            "order": null,
            "_view_module_version": "1.2.0",
            "grid_template_areas": null,
            "object_position": null,
            "object_fit": null,
            "grid_auto_columns": null,
            "margin": null,
            "display": null,
            "left": null
          },
          "model_module_version": "1.2.0"
        },
        "cd4765e3db274e6496f9e10ca4e3adb8": {
          "model_module": "@jupyter-widgets/controls",
          "model_name": "HBoxModel",
          "state": {
            "_view_name": "HBoxView",
            "_dom_classes": [],
            "_model_name": "HBoxModel",
            "_view_module": "@jupyter-widgets/controls",
            "_model_module_version": "1.5.0",
            "_view_count": null,
            "_view_module_version": "1.5.0",
            "box_style": "",
            "layout": "IPY_MODEL_258b5d5c916c46f087690079c6deff7f",
            "_model_module": "@jupyter-widgets/controls",
            "children": [
              "IPY_MODEL_7313d9e2d9ab474ca338ab29fe0efb84",
              "IPY_MODEL_d447f86796494899ba05b27d8f8d2dc6"
            ]
          },
          "model_module_version": "1.5.0"
        },
        "258b5d5c916c46f087690079c6deff7f": {
          "model_module": "@jupyter-widgets/base",
          "model_name": "LayoutModel",
          "state": {
            "_view_name": "LayoutView",
            "grid_template_rows": null,
            "right": null,
            "justify_content": null,
            "_view_module": "@jupyter-widgets/base",
            "overflow": null,
            "_model_module_version": "1.2.0",
            "_view_count": null,
            "flex_flow": null,
            "width": null,
            "min_width": null,
            "border": null,
            "align_items": null,
            "bottom": null,
            "_model_module": "@jupyter-widgets/base",
            "top": null,
            "grid_column": null,
            "overflow_y": null,
            "overflow_x": null,
            "grid_auto_flow": null,
            "grid_area": null,
            "grid_template_columns": null,
            "flex": null,
            "_model_name": "LayoutModel",
            "justify_items": null,
            "grid_row": null,
            "max_height": null,
            "align_content": null,
            "visibility": null,
            "align_self": null,
            "height": null,
            "min_height": null,
            "padding": null,
            "grid_auto_rows": null,
            "grid_gap": null,
            "max_width": null,
            "order": null,
            "_view_module_version": "1.2.0",
            "grid_template_areas": null,
            "object_position": null,
            "object_fit": null,
            "grid_auto_columns": null,
            "margin": null,
            "display": null,
            "left": null
          },
          "model_module_version": "1.2.0"
        },
        "7313d9e2d9ab474ca338ab29fe0efb84": {
          "model_module": "@jupyter-widgets/controls",
          "model_name": "FloatProgressModel",
          "state": {
            "_view_name": "ProgressView",
            "style": "IPY_MODEL_76c86d99f33f48ab9d9b3fa17c6660cb",
            "_dom_classes": [],
            "description": "Downloading: 100%",
            "_model_name": "FloatProgressModel",
            "bar_style": "success",
            "max": 433,
            "_view_module": "@jupyter-widgets/controls",
            "_model_module_version": "1.5.0",
            "value": 433,
            "_view_count": null,
            "_view_module_version": "1.5.0",
            "orientation": "horizontal",
            "min": 0,
            "description_tooltip": null,
            "_model_module": "@jupyter-widgets/controls",
            "layout": "IPY_MODEL_49bb01a558a9499e85595300f0e23540"
          },
          "model_module_version": "1.5.0"
        },
        "d447f86796494899ba05b27d8f8d2dc6": {
          "model_module": "@jupyter-widgets/controls",
          "model_name": "HTMLModel",
          "state": {
            "_view_name": "HTMLView",
            "style": "IPY_MODEL_f5c968fbe059415abdec178afd86d6da",
            "_dom_classes": [],
            "description": "",
            "_model_name": "HTMLModel",
            "placeholder": "​",
            "_view_module": "@jupyter-widgets/controls",
            "_model_module_version": "1.5.0",
            "value": " 433/433 [00:00&lt;00:00, 458B/s]",
            "_view_count": null,
            "_view_module_version": "1.5.0",
            "description_tooltip": null,
            "_model_module": "@jupyter-widgets/controls",
            "layout": "IPY_MODEL_ece8579542774cf7b05caf0c6785b62d"
          },
          "model_module_version": "1.5.0"
        },
        "76c86d99f33f48ab9d9b3fa17c6660cb": {
          "model_module": "@jupyter-widgets/controls",
          "model_name": "ProgressStyleModel",
          "state": {
            "_view_name": "StyleView",
            "_model_name": "ProgressStyleModel",
            "description_width": "initial",
            "_view_module": "@jupyter-widgets/base",
            "_model_module_version": "1.5.0",
            "_view_count": null,
            "_view_module_version": "1.2.0",
            "bar_color": null,
            "_model_module": "@jupyter-widgets/controls"
          },
          "model_module_version": "1.5.0"
        },
        "49bb01a558a9499e85595300f0e23540": {
          "model_module": "@jupyter-widgets/base",
          "model_name": "LayoutModel",
          "state": {
            "_view_name": "LayoutView",
            "grid_template_rows": null,
            "right": null,
            "justify_content": null,
            "_view_module": "@jupyter-widgets/base",
            "overflow": null,
            "_model_module_version": "1.2.0",
            "_view_count": null,
            "flex_flow": null,
            "width": null,
            "min_width": null,
            "border": null,
            "align_items": null,
            "bottom": null,
            "_model_module": "@jupyter-widgets/base",
            "top": null,
            "grid_column": null,
            "overflow_y": null,
            "overflow_x": null,
            "grid_auto_flow": null,
            "grid_area": null,
            "grid_template_columns": null,
            "flex": null,
            "_model_name": "LayoutModel",
            "justify_items": null,
            "grid_row": null,
            "max_height": null,
            "align_content": null,
            "visibility": null,
            "align_self": null,
            "height": null,
            "min_height": null,
            "padding": null,
            "grid_auto_rows": null,
            "grid_gap": null,
            "max_width": null,
            "order": null,
            "_view_module_version": "1.2.0",
            "grid_template_areas": null,
            "object_position": null,
            "object_fit": null,
            "grid_auto_columns": null,
            "margin": null,
            "display": null,
            "left": null
          },
          "model_module_version": "1.2.0"
        },
        "f5c968fbe059415abdec178afd86d6da": {
          "model_module": "@jupyter-widgets/controls",
          "model_name": "DescriptionStyleModel",
          "state": {
            "_view_name": "StyleView",
            "_model_name": "DescriptionStyleModel",
            "description_width": "",
            "_view_module": "@jupyter-widgets/base",
            "_model_module_version": "1.5.0",
            "_view_count": null,
            "_view_module_version": "1.2.0",
            "_model_module": "@jupyter-widgets/controls"
          },
          "model_module_version": "1.5.0"
        },
        "ece8579542774cf7b05caf0c6785b62d": {
          "model_module": "@jupyter-widgets/base",
          "model_name": "LayoutModel",
          "state": {
            "_view_name": "LayoutView",
            "grid_template_rows": null,
            "right": null,
            "justify_content": null,
            "_view_module": "@jupyter-widgets/base",
            "overflow": null,
            "_model_module_version": "1.2.0",
            "_view_count": null,
            "flex_flow": null,
            "width": null,
            "min_width": null,
            "border": null,
            "align_items": null,
            "bottom": null,
            "_model_module": "@jupyter-widgets/base",
            "top": null,
            "grid_column": null,
            "overflow_y": null,
            "overflow_x": null,
            "grid_auto_flow": null,
            "grid_area": null,
            "grid_template_columns": null,
            "flex": null,
            "_model_name": "LayoutModel",
            "justify_items": null,
            "grid_row": null,
            "max_height": null,
            "align_content": null,
            "visibility": null,
            "align_self": null,
            "height": null,
            "min_height": null,
            "padding": null,
            "grid_auto_rows": null,
            "grid_gap": null,
            "max_width": null,
            "order": null,
            "_view_module_version": "1.2.0",
            "grid_template_areas": null,
            "object_position": null,
            "object_fit": null,
            "grid_auto_columns": null,
            "margin": null,
            "display": null,
            "left": null
          },
          "model_module_version": "1.2.0"
        },
        "5e0e385b6feb4b8db3e5f4ac513513da": {
          "model_module": "@jupyter-widgets/controls",
          "model_name": "HBoxModel",
          "state": {
            "_view_name": "HBoxView",
            "_dom_classes": [],
            "_model_name": "HBoxModel",
            "_view_module": "@jupyter-widgets/controls",
            "_model_module_version": "1.5.0",
            "_view_count": null,
            "_view_module_version": "1.5.0",
            "box_style": "",
            "layout": "IPY_MODEL_624296e584554b6f937f7d9acdadf04f",
            "_model_module": "@jupyter-widgets/controls",
            "children": [
              "IPY_MODEL_4d113b6317ea43d6a9ad8627bfb6019a",
              "IPY_MODEL_59cf50e8a27f4d3ebe3d3da3bc5d0fb2"
            ]
          },
          "model_module_version": "1.5.0"
        },
        "624296e584554b6f937f7d9acdadf04f": {
          "model_module": "@jupyter-widgets/base",
          "model_name": "LayoutModel",
          "state": {
            "_view_name": "LayoutView",
            "grid_template_rows": null,
            "right": null,
            "justify_content": null,
            "_view_module": "@jupyter-widgets/base",
            "overflow": null,
            "_model_module_version": "1.2.0",
            "_view_count": null,
            "flex_flow": null,
            "width": null,
            "min_width": null,
            "border": null,
            "align_items": null,
            "bottom": null,
            "_model_module": "@jupyter-widgets/base",
            "top": null,
            "grid_column": null,
            "overflow_y": null,
            "overflow_x": null,
            "grid_auto_flow": null,
            "grid_area": null,
            "grid_template_columns": null,
            "flex": null,
            "_model_name": "LayoutModel",
            "justify_items": null,
            "grid_row": null,
            "max_height": null,
            "align_content": null,
            "visibility": null,
            "align_self": null,
            "height": null,
            "min_height": null,
            "padding": null,
            "grid_auto_rows": null,
            "grid_gap": null,
            "max_width": null,
            "order": null,
            "_view_module_version": "1.2.0",
            "grid_template_areas": null,
            "object_position": null,
            "object_fit": null,
            "grid_auto_columns": null,
            "margin": null,
            "display": null,
            "left": null
          },
          "model_module_version": "1.2.0"
        },
        "4d113b6317ea43d6a9ad8627bfb6019a": {
          "model_module": "@jupyter-widgets/controls",
          "model_name": "FloatProgressModel",
          "state": {
            "_view_name": "ProgressView",
            "style": "IPY_MODEL_c012f3414fd74d118ad0a802c1ddb09d",
            "_dom_classes": [],
            "description": "Downloading: 100%",
            "_model_name": "FloatProgressModel",
            "bar_style": "success",
            "max": 213450,
            "_view_module": "@jupyter-widgets/controls",
            "_model_module_version": "1.5.0",
            "value": 213450,
            "_view_count": null,
            "_view_module_version": "1.5.0",
            "orientation": "horizontal",
            "min": 0,
            "description_tooltip": null,
            "_model_module": "@jupyter-widgets/controls",
            "layout": "IPY_MODEL_d4955afe58514fab8ec56fcc303aaa2c"
          },
          "model_module_version": "1.5.0"
        },
        "59cf50e8a27f4d3ebe3d3da3bc5d0fb2": {
          "model_module": "@jupyter-widgets/controls",
          "model_name": "HTMLModel",
          "state": {
            "_view_name": "HTMLView",
            "style": "IPY_MODEL_89a850588aa645b78509b38a53440ead",
            "_dom_classes": [],
            "description": "",
            "_model_name": "HTMLModel",
            "placeholder": "​",
            "_view_module": "@jupyter-widgets/controls",
            "_model_module_version": "1.5.0",
            "value": " 213k/213k [00:00&lt;00:00, 589kB/s]",
            "_view_count": null,
            "_view_module_version": "1.5.0",
            "description_tooltip": null,
            "_model_module": "@jupyter-widgets/controls",
            "layout": "IPY_MODEL_fffa01df3d684def9e48c832587b7fe9"
          },
          "model_module_version": "1.5.0"
        },
        "c012f3414fd74d118ad0a802c1ddb09d": {
          "model_module": "@jupyter-widgets/controls",
          "model_name": "ProgressStyleModel",
          "state": {
            "_view_name": "StyleView",
            "_model_name": "ProgressStyleModel",
            "description_width": "initial",
            "_view_module": "@jupyter-widgets/base",
            "_model_module_version": "1.5.0",
            "_view_count": null,
            "_view_module_version": "1.2.0",
            "bar_color": null,
            "_model_module": "@jupyter-widgets/controls"
          },
          "model_module_version": "1.5.0"
        },
        "d4955afe58514fab8ec56fcc303aaa2c": {
          "model_module": "@jupyter-widgets/base",
          "model_name": "LayoutModel",
          "state": {
            "_view_name": "LayoutView",
            "grid_template_rows": null,
            "right": null,
            "justify_content": null,
            "_view_module": "@jupyter-widgets/base",
            "overflow": null,
            "_model_module_version": "1.2.0",
            "_view_count": null,
            "flex_flow": null,
            "width": null,
            "min_width": null,
            "border": null,
            "align_items": null,
            "bottom": null,
            "_model_module": "@jupyter-widgets/base",
            "top": null,
            "grid_column": null,
            "overflow_y": null,
            "overflow_x": null,
            "grid_auto_flow": null,
            "grid_area": null,
            "grid_template_columns": null,
            "flex": null,
            "_model_name": "LayoutModel",
            "justify_items": null,
            "grid_row": null,
            "max_height": null,
            "align_content": null,
            "visibility": null,
            "align_self": null,
            "height": null,
            "min_height": null,
            "padding": null,
            "grid_auto_rows": null,
            "grid_gap": null,
            "max_width": null,
            "order": null,
            "_view_module_version": "1.2.0",
            "grid_template_areas": null,
            "object_position": null,
            "object_fit": null,
            "grid_auto_columns": null,
            "margin": null,
            "display": null,
            "left": null
          },
          "model_module_version": "1.2.0"
        },
        "89a850588aa645b78509b38a53440ead": {
          "model_module": "@jupyter-widgets/controls",
          "model_name": "DescriptionStyleModel",
          "state": {
            "_view_name": "StyleView",
            "_model_name": "DescriptionStyleModel",
            "description_width": "",
            "_view_module": "@jupyter-widgets/base",
            "_model_module_version": "1.5.0",
            "_view_count": null,
            "_view_module_version": "1.2.0",
            "_model_module": "@jupyter-widgets/controls"
          },
          "model_module_version": "1.5.0"
        },
        "fffa01df3d684def9e48c832587b7fe9": {
          "model_module": "@jupyter-widgets/base",
          "model_name": "LayoutModel",
          "state": {
            "_view_name": "LayoutView",
            "grid_template_rows": null,
            "right": null,
            "justify_content": null,
            "_view_module": "@jupyter-widgets/base",
            "overflow": null,
            "_model_module_version": "1.2.0",
            "_view_count": null,
            "flex_flow": null,
            "width": null,
            "min_width": null,
            "border": null,
            "align_items": null,
            "bottom": null,
            "_model_module": "@jupyter-widgets/base",
            "top": null,
            "grid_column": null,
            "overflow_y": null,
            "overflow_x": null,
            "grid_auto_flow": null,
            "grid_area": null,
            "grid_template_columns": null,
            "flex": null,
            "_model_name": "LayoutModel",
            "justify_items": null,
            "grid_row": null,
            "max_height": null,
            "align_content": null,
            "visibility": null,
            "align_self": null,
            "height": null,
            "min_height": null,
            "padding": null,
            "grid_auto_rows": null,
            "grid_gap": null,
            "max_width": null,
            "order": null,
            "_view_module_version": "1.2.0",
            "grid_template_areas": null,
            "object_position": null,
            "object_fit": null,
            "grid_auto_columns": null,
            "margin": null,
            "display": null,
            "left": null
          },
          "model_module_version": "1.2.0"
        }
      }
    }
  },
  "cells": [
    {
      "cell_type": "markdown",
      "metadata": {
        "id": "SY0Cjg5Lb1uh"
      },
      "source": [
        "#Completion Prediction\n",
        "This task aims to predict student success (course completion) based on their comments where:\n",
        "completed=0 : the student didn't complete the course\n",
        "completed=1 : the student completed the course\n",
        "timestamp: time when the comment was posted\n",
        "\n",
        "likes: number of likes the comment has received\n",
        "\n",
        "word_count: number of words in the comment\n",
        "\n",
        "char_count: number of characters in the comment\n",
        "\n",
        "SA: sentiment analysis (1=positiive, 0=neutral, -1=negative)\n",
        "\n",
        "files included:\n",
        "\n",
        "Comments: contains students' comment\n",
        "combinedComments: contains all comments by each student grouped by lwarner ID.\n",
        "SeparateComments: same combinedComments, but every comment in one coloumn\n",
        "resources used in this notebook:\n",
        "\n",
        "glove: https://drive.google.com/file/d/1z39VM7qx1F39eR_N5yGNyJN5QmTmkMpU/view?usp=sharing\n",
        "BERT: https://drive.google.com/drive/folders/1vXUmCd45O2X8rBtiTfPaRiq5eY4fPDoy?usp=sharing"
      ]
    },
    {
      "cell_type": "code",
      "metadata": {
        "id": "O4sLQDtfmT9N"
      },
      "source": [
        "pip install  transformers -q"
      ],
      "execution_count": null,
      "outputs": []
    },
    {
      "cell_type": "code",
      "metadata": {
        "id": "dVhIIPEMmkId"
      },
      "source": [
        "pip install watermark -q"
      ],
      "execution_count": null,
      "outputs": []
    },
    {
      "cell_type": "markdown",
      "metadata": {
        "id": "O7l-2cighx_P"
      },
      "source": [
        "### **Import the required libraries**"
      ]
    },
    {
      "cell_type": "code",
      "metadata": {
        "colab": {
          "base_uri": "https://localhost:8080/"
        },
        "id": "6mfYM9UuKnot",
        "outputId": "6fa9f8fd-ea0b-4171-f668-5e7c41cc7b60"
      },
      "source": [
        "#Check installed version of packages\n",
        "%reload_ext watermark\n",
        "%watermark -v -p numpy,pandas,torch,transformers"
      ],
      "execution_count": null,
      "outputs": [
        {
          "output_type": "stream",
          "text": [
            "Python implementation: CPython\n",
            "Python version       : 3.7.10\n",
            "IPython version      : 5.5.0\n",
            "\n",
            "numpy       : 1.19.5\n",
            "pandas      : 1.1.5\n",
            "torch       : 1.7.0+cu101\n",
            "transformers: 4.3.2\n",
            "\n"
          ],
          "name": "stdout"
        }
      ]
    },
    {
      "cell_type": "code",
      "metadata": {
        "colab": {
          "base_uri": "https://localhost:8080/"
        },
        "id": "I3OzRx8-jAex",
        "outputId": "5313ed5c-8bcb-4fff-e423-4cd02491be27"
      },
      "source": [
        "#Import required libraries \n",
        "import pandas as pd\n",
        "import numpy as np\n",
        "import seaborn as sns\n",
        "from matplotlib import rc\n",
        "from pylab import rcParams\n",
        "import matplotlib.pyplot as plt\n",
        "from textwrap import wrap\n",
        "from collections import defaultdict\n",
        "from sklearn.model_selection import train_test_split\n",
        "from sklearn.metrics import confusion_matrix, classification_report\n",
        "from sklearn.metrics import precision_recall_curve,auc\n",
        "\n",
        "\n",
        "import transformers\n",
        "from transformers import BertModel, BertTokenizerFast\n",
        "from transformers import AdamW, get_linear_schedule_with_warmup\n",
        "\n",
        "import torch\n",
        "from torch import nn,optim\n",
        "from torch.utils.data import Dataset,DataLoader\n",
        "import torch.nn as nn  \n",
        "import torch.nn.functional as F  \n",
        "device=torch.device('cuda:0' if torch.cuda.is_available() else 'cpu');\n",
        "\n",
        "%matplotlib inline\n",
        "%config InlineBackend.figure_format='retina'\n",
        "\n",
        "sns.set(style='whitegrid',palette='muted',font_scale=1.2)\n",
        "color_palette=['#01BEFE','#FFDD00','#FF7D00','#FF006D','#ADFF02','#8F00FF']\n",
        "sns.set_palette(sns.color_palette(color_palette))\n",
        "\n",
        "rcParams['figure.figsize']= 12,6\n",
        "\n",
        "import warnings\n",
        "warnings.filterwarnings('ignore')\n",
        "\n",
        "seed=42\n",
        "np.random.seed(seed)\n",
        "torch.manual_seed(seed)"
      ],
      "execution_count": null,
      "outputs": [
        {
          "output_type": "execute_result",
          "data": {
            "text/plain": [
              "<torch._C.Generator at 0x7f98280cd330>"
            ]
          },
          "metadata": {
            "tags": []
          },
          "execution_count": 10
        }
      ]
    },
    {
      "cell_type": "markdown",
      "metadata": {
        "id": "4OiWhGmcH02t"
      },
      "source": [
        "#### Check GPU info on Google colab"
      ]
    },
    {
      "cell_type": "code",
      "metadata": {
        "colab": {
          "base_uri": "https://localhost:8080/"
        },
        "id": "LH_IW4EWIGBN",
        "outputId": "a94fd751-83a9-453e-8729-272896fea048"
      },
      "source": [
        "!nvidia-smi"
      ],
      "execution_count": null,
      "outputs": [
        {
          "output_type": "stream",
          "text": [
            "Tue Feb 23 18:56:35 2021       \n",
            "+-----------------------------------------------------------------------------+\n",
            "| NVIDIA-SMI 460.39       Driver Version: 460.32.03    CUDA Version: 11.2     |\n",
            "|-------------------------------+----------------------+----------------------+\n",
            "| GPU  Name        Persistence-M| Bus-Id        Disp.A | Volatile Uncorr. ECC |\n",
            "| Fan  Temp  Perf  Pwr:Usage/Cap|         Memory-Usage | GPU-Util  Compute M. |\n",
            "|                               |                      |               MIG M. |\n",
            "|===============================+======================+======================|\n",
            "|   0  Tesla P100-PCIE...  Off  | 00000000:00:04.0 Off |                    0 |\n",
            "| N/A   33C    P0    27W / 250W |      2MiB / 16280MiB |      0%      Default |\n",
            "|                               |                      |                  N/A |\n",
            "+-------------------------------+----------------------+----------------------+\n",
            "                                                                               \n",
            "+-----------------------------------------------------------------------------+\n",
            "| Processes:                                                                  |\n",
            "|  GPU   GI   CI        PID   Type   Process name                  GPU Memory |\n",
            "|        ID   ID                                                   Usage      |\n",
            "|=============================================================================|\n",
            "|  No running processes found                                                 |\n",
            "+-----------------------------------------------------------------------------+\n"
          ],
          "name": "stdout"
        }
      ]
    },
    {
      "cell_type": "markdown",
      "metadata": {
        "id": "3KBG4eWPIKDF"
      },
      "source": [
        "Kaggle is using Tesla P100 gpu."
      ]
    },
    {
      "cell_type": "markdown",
      "metadata": {
        "id": "_s3ic-u5cR7M"
      },
      "source": [
        "### Now load the scraped dataset"
      ]
    },
    {
      "cell_type": "code",
      "metadata": {
        "colab": {
          "base_uri": "https://localhost:8080/",
          "height": 221
        },
        "id": "abLuU7lVS3zQ",
        "outputId": "3aaf2e57-9cdb-4edf-d2e8-af096de5980e"
      },
      "source": [
        "from google.colab import drive\n",
        "drive.mount('/gdrive/')\n",
        "import os\n",
        "os.chdir('/gdrive/My Drive/Datasets/Kaggle/Coursera')\n",
        "df=pd.read_csv('Comments.csv')\n",
        "df.head()"
      ],
      "execution_count": null,
      "outputs": [
        {
          "output_type": "stream",
          "text": [
            "Drive already mounted at /gdrive/; to attempt to forcibly remount, call drive.mount(\"/gdrive/\", force_remount=True).\n"
          ],
          "name": "stdout"
        },
        {
          "output_type": "execute_result",
          "data": {
            "text/html": [
              "<div>\n",
              "<style scoped>\n",
              "    .dataframe tbody tr th:only-of-type {\n",
              "        vertical-align: middle;\n",
              "    }\n",
              "\n",
              "    .dataframe tbody tr th {\n",
              "        vertical-align: top;\n",
              "    }\n",
              "\n",
              "    .dataframe thead th {\n",
              "        text-align: right;\n",
              "    }\n",
              "</style>\n",
              "<table border=\"1\" class=\"dataframe\">\n",
              "  <thead>\n",
              "    <tr style=\"text-align: right;\">\n",
              "      <th></th>\n",
              "      <th>learner_id</th>\n",
              "      <th>step</th>\n",
              "      <th>text</th>\n",
              "      <th>timestamp</th>\n",
              "      <th>likes</th>\n",
              "      <th>word_count</th>\n",
              "      <th>char_count</th>\n",
              "      <th>SA</th>\n",
              "      <th>completed</th>\n",
              "    </tr>\n",
              "  </thead>\n",
              "  <tbody>\n",
              "    <tr>\n",
              "      <th>0</th>\n",
              "      <td>00000007c103</td>\n",
              "      <td>2.80</td>\n",
              "      <td>interesting and useful !</td>\n",
              "      <td>15/03/2015 7:07</td>\n",
              "      <td>1</td>\n",
              "      <td>4</td>\n",
              "      <td>24</td>\n",
              "      <td>1</td>\n",
              "      <td>1</td>\n",
              "    </tr>\n",
              "    <tr>\n",
              "      <th>1</th>\n",
              "      <td>00000007c103</td>\n",
              "      <td>2.80</td>\n",
              "      <td>I totally learned web development !!!Great Lec...</td>\n",
              "      <td>16/03/2015 5:49</td>\n",
              "      <td>0</td>\n",
              "      <td>7</td>\n",
              "      <td>52</td>\n",
              "      <td>1</td>\n",
              "      <td>1</td>\n",
              "    </tr>\n",
              "    <tr>\n",
              "      <th>2</th>\n",
              "      <td>00000007c103</td>\n",
              "      <td>5.11</td>\n",
              "      <td>Very clear concise and simple explanation</td>\n",
              "      <td>02/04/2015 3:15</td>\n",
              "      <td>0</td>\n",
              "      <td>6</td>\n",
              "      <td>41</td>\n",
              "      <td>1</td>\n",
              "      <td>1</td>\n",
              "    </tr>\n",
              "    <tr>\n",
              "      <th>3</th>\n",
              "      <td>000046e8f020</td>\n",
              "      <td>2.10</td>\n",
              "      <td>Great course. Jogesh has done wonderful job in...</td>\n",
              "      <td>14/11/2015 20:53</td>\n",
              "      <td>2</td>\n",
              "      <td>13</td>\n",
              "      <td>80</td>\n",
              "      <td>1</td>\n",
              "      <td>1</td>\n",
              "    </tr>\n",
              "    <tr>\n",
              "      <th>4</th>\n",
              "      <td>00006b585440</td>\n",
              "      <td>5.11</td>\n",
              "      <td>Perfect introduction course to Big Data</td>\n",
              "      <td>02/12/2015 10:36</td>\n",
              "      <td>1</td>\n",
              "      <td>6</td>\n",
              "      <td>39</td>\n",
              "      <td>1</td>\n",
              "      <td>1</td>\n",
              "    </tr>\n",
              "  </tbody>\n",
              "</table>\n",
              "</div>"
            ],
            "text/plain": [
              "     learner_id  step  ... SA completed\n",
              "0  00000007c103  2.80  ...  1         1\n",
              "1  00000007c103  2.80  ...  1         1\n",
              "2  00000007c103  5.11  ...  1         1\n",
              "3  000046e8f020  2.10  ...  1         1\n",
              "4  00006b585440  5.11  ...  1         1\n",
              "\n",
              "[5 rows x 9 columns]"
            ]
          },
          "metadata": {
            "tags": []
          },
          "execution_count": 12
        }
      ]
    },
    {
      "cell_type": "markdown",
      "metadata": {
        "id": "r5Bcqb9xeCTh"
      },
      "source": [
        "### Let's check missing values if there are any."
      ]
    },
    {
      "cell_type": "code",
      "metadata": {
        "colab": {
          "base_uri": "https://localhost:8080/"
        },
        "id": "gpeY1BHKdYea",
        "outputId": "2e7aa897-02f1-4d33-9ada-ab709e9206da"
      },
      "source": [
        "df.info()"
      ],
      "execution_count": null,
      "outputs": [
        {
          "output_type": "stream",
          "text": [
            "<class 'pandas.core.frame.DataFrame'>\n",
            "RangeIndex: 87442 entries, 0 to 87441\n",
            "Data columns (total 9 columns):\n",
            " #   Column      Non-Null Count  Dtype  \n",
            "---  ------      --------------  -----  \n",
            " 0   learner_id  87442 non-null  object \n",
            " 1   step        87442 non-null  float64\n",
            " 2   text        87440 non-null  object \n",
            " 3   timestamp   87442 non-null  object \n",
            " 4   likes       87442 non-null  int64  \n",
            " 5   word_count  87442 non-null  int64  \n",
            " 6   char_count  87442 non-null  int64  \n",
            " 7   SA          87442 non-null  int64  \n",
            " 8   completed   87442 non-null  int64  \n",
            "dtypes: float64(1), int64(5), object(3)\n",
            "memory usage: 6.0+ MB\n"
          ],
          "name": "stdout"
        }
      ]
    },
    {
      "cell_type": "markdown",
      "metadata": {
        "id": "huKKKdQJeceD"
      },
      "source": [
        "Oops, the attributes reviewCreatedVersion, replyContent, & repliedAt contains missing values."
      ]
    },
    {
      "cell_type": "markdown",
      "metadata": {
        "id": "23VhRuBYfah-"
      },
      "source": [
        "### Do we have class imbalanced data?"
      ]
    },
    {
      "cell_type": "code",
      "metadata": {
        "colab": {
          "base_uri": "https://localhost:8080/",
          "height": 415
        },
        "id": "6Ck3iCI0eQbj",
        "outputId": "22587b9e-e136-4cb2-b172-87d25b395117"
      },
      "source": [
        "sns.countplot(df.completed)\n",
        "plt.xlabel('completed')"
      ],
      "execution_count": null,
      "outputs": [
        {
          "output_type": "execute_result",
          "data": {
            "text/plain": [
              "Text(0.5, 0, 'completed')"
            ]
          },
          "metadata": {
            "tags": []
          },
          "execution_count": 17
        },
        {
          "output_type": "display_data",
          "data": {
            "image/png": "[encoded data removed]",
            "text/plain": [
              "<Figure size 864x432 with 1 Axes>"
            ]
          },
          "metadata": {
            "tags": [],
            "image/png": {
              "width": 753,
              "height": 381
            }
          }
        }
      ]
    },
    {
      "cell_type": "markdown",
      "metadata": {
        "id": "51iKJh6-ggpL"
      },
      "source": [
        "We have highly class imbalanced data. Most of the reviews have score 5 in the dataset."
      ]
    },
    {
      "cell_type": "markdown",
      "metadata": {
        "id": "3ZsLR8mUnUi_"
      },
      "source": [
        "### Let's convert our reviews into Positive & Negative sentiment."
      ]
    },
    {
      "cell_type": "code",
      "metadata": {
        "colab": {
          "base_uri": "https://localhost:8080/",
          "height": 35
        },
        "id": "OQiC6dQBgDqZ",
        "outputId": "db89d61c-3dd4-4a71-855f-cf4e1039f823"
      },
      "source": [
        "'''def to_sentiment(score):\n",
        "  score=int(score)\n",
        "  if score <=4:\n",
        "    return 0\n",
        "  else :\n",
        "    return 1\n",
        "\n",
        "df['sentiment']=df.score.apply(to_sentiment)\n",
        "df.head()'''"
      ],
      "execution_count": null,
      "outputs": [
        {
          "output_type": "execute_result",
          "data": {
            "application/vnd.google.colaboratory.intrinsic+json": {
              "type": "string"
            },
            "text/plain": [
              "\"def to_sentiment(score):\\n  score=int(score)\\n  if score <=4:\\n    return 0\\n  else :\\n    return 1\\n\\ndf['sentiment']=df.score.apply(to_sentiment)\\ndf.head()\""
            ]
          },
          "metadata": {
            "tags": []
          },
          "execution_count": 19
        }
      ]
    },
    {
      "cell_type": "code",
      "metadata": {
        "colab": {
          "base_uri": "https://localhost:8080/",
          "height": 35
        },
        "id": "XfcEp7xroQQQ",
        "outputId": "e7ff5da7-bd77-458e-abaa-c603f0f176f1"
      },
      "source": [
        "'''ax=sns.countplot(df.sentiment)\n",
        "plt.xlabel('Review sentiment')\n",
        "class_names=['Negative','Positive']\n",
        "ax.set_xticklabels(class_names)\n",
        "plt.show()'''"
      ],
      "execution_count": null,
      "outputs": [
        {
          "output_type": "execute_result",
          "data": {
            "application/vnd.google.colaboratory.intrinsic+json": {
              "type": "string"
            },
            "text/plain": [
              "\"ax=sns.countplot(df.sentiment)\\nplt.xlabel('Review sentiment')\\nclass_names=['Negative','Positive']\\nax.set_xticklabels(class_names)\\nplt.show()\""
            ]
          },
          "metadata": {
            "tags": []
          },
          "execution_count": 20
        }
      ]
    },
    {
      "cell_type": "markdown",
      "metadata": {
        "id": "MUg5WDQIFoRB"
      },
      "source": [
        "Still classes are not balanced. Will proceed anyway.."
      ]
    },
    {
      "cell_type": "markdown",
      "metadata": {
        "id": "BaIiQ7WEK6HK"
      },
      "source": [
        "## **Data Processing**"
      ]
    },
    {
      "cell_type": "markdown",
      "metadata": {
        "id": "0BZo1ECoMPhI"
      },
      "source": [
        "BERT do not process the raw text & it needs to be converted to numbers by tokenization."
      ]
    },
    {
      "cell_type": "markdown",
      "metadata": {
        "id": "J3Ph5JHSNIPA"
      },
      "source": [
        "#### Let's tokenize the text data"
      ]
    },
    {
      "cell_type": "code",
      "metadata": {
        "id": "4mm0iapaEzhI"
      },
      "source": [
        "Pre_trained_model='bert-base-uncased'"
      ],
      "execution_count": null,
      "outputs": []
    },
    {
      "cell_type": "markdown",
      "metadata": {
        "id": "MZg9R3L4Ohg3"
      },
      "source": [
        "Let's load a pre-trained [BertTokenizerFast]('https://huggingface.co/transformers/model_doc/bert.html#transformers.BertTokenizerFast'):"
      ]
    },
    {
      "cell_type": "code",
      "metadata": {
        "id": "NuXbQWzVOe5x",
        "colab": {
          "base_uri": "https://localhost:8080/",
          "height": 115,
          "referenced_widgets": [
            "de436d7e478f4613bed68edf038be9e1",
            "9b3de21e5492420189328cba1de59d49",
            "8b017e11617c4e7c970c51fb5e28a794",
            "525414c838954eb69dc11fe51e396d96",
            "cce306733cc94d71b7f3f8b8d859c81f",
            "6a7c75c5851c43eab71500a5cfd09105",
            "9d1bd548668a4edab95c7fd3d15a74a0",
            "244051e2e2b241ec843f94102124b186",
            "f00ef2394d334a3aa7da76750ab34888",
            "24e24ec6f2ea40b7b52e91bd36ef7515",
            "569791cab37b48ffaec443ab3b555321",
            "c3bd8506ee5c4bbebebe2494879ce0ac",
            "40a77592f98941e09b885dd5f5da689b",
            "b4c52474c47b453382f1f1be89583b8d",
            "e43f9d921f4940eda1d9be7298586e7d",
            "cdd3ea5a38934db5a2ca09b866f3b69f"
          ]
        },
        "outputId": "bbd6c666-4e58-4042-9cc4-30dbe239540a"
      },
      "source": [
        "tokenizer=BertTokenizerFast.from_pretrained(Pre_trained_model);"
      ],
      "execution_count": null,
      "outputs": [
        {
          "output_type": "display_data",
          "data": {
            "application/vnd.jupyter.widget-view+json": {
              "model_id": "de436d7e478f4613bed68edf038be9e1",
              "version_minor": 0,
              "version_major": 2
            },
            "text/plain": [
              "HBox(children=(FloatProgress(value=0.0, description='Downloading', max=231508.0, style=ProgressStyle(descripti…"
            ]
          },
          "metadata": {
            "tags": []
          }
        },
        {
          "output_type": "stream",
          "text": [
            "\n"
          ],
          "name": "stdout"
        },
        {
          "output_type": "display_data",
          "data": {
            "application/vnd.jupyter.widget-view+json": {
              "model_id": "f00ef2394d334a3aa7da76750ab34888",
              "version_minor": 0,
              "version_major": 2
            },
            "text/plain": [
              "HBox(children=(FloatProgress(value=0.0, description='Downloading', max=466062.0, style=ProgressStyle(descripti…"
            ]
          },
          "metadata": {
            "tags": []
          }
        },
        {
          "output_type": "stream",
          "text": [
            "\n"
          ],
          "name": "stdout"
        }
      ]
    },
    {
      "cell_type": "markdown",
      "metadata": {
        "id": "w4iVxO5GPeSf"
      },
      "source": [
        "Will use a sample text to understand tokenization process:"
      ]
    },
    {
      "cell_type": "code",
      "metadata": {
        "colab": {
          "base_uri": "https://localhost:8080/"
        },
        "id": "G-AZllhOPW2D",
        "outputId": "449be0c8-9913-4c47-beec-d0adaac06586"
      },
      "source": [
        "sample_text=\"The animal didn't cross the street because it was too tired\"\n",
        "\n",
        "#Convert text to tokens & token_ids\n",
        "tokens=tokenizer.tokenize(sample_text)\n",
        "token_ids=tokenizer.convert_tokens_to_ids(tokens)\n",
        "\n",
        "print(f'Sentence : {sample_text}')\n",
        "print(f'Tokens :{tokens}')\n",
        "print(f'Token IDs : {token_ids}')"
      ],
      "execution_count": null,
      "outputs": [
        {
          "output_type": "stream",
          "text": [
            "Sentence : The animal didn't cross the street because it was too tired\n",
            "Tokens :['the', 'animal', 'didn', \"'\", 't', 'cross', 'the', 'street', 'because', 'it', 'was', 'too', 'tired']\n",
            "Token IDs : [1996, 4111, 2134, 1005, 1056, 2892, 1996, 2395, 2138, 2009, 2001, 2205, 5458]\n"
          ],
          "name": "stdout"
        }
      ]
    },
    {
      "cell_type": "markdown",
      "metadata": {
        "id": "KDnjcgaGRnnX"
      },
      "source": [
        "### **Now add Special tokens**"
      ]
    },
    {
      "cell_type": "markdown",
      "metadata": {
        "id": "Xmptd8GYRudY"
      },
      "source": [
        "Bert expects  special tokens for each sentence,               \n",
        "[SEP] - marker for ending of the sentence        \n",
        "[CLS] - marker for start of each sentence for sentence classification            \n",
        "[PAD] - marker for padding sentence to a specific length                    \n",
        "and everything else encodes as             \n",
        "[UNK] - marker for all tokens expect tokens in trained data."
      ]
    },
    {
      "cell_type": "code",
      "metadata": {
        "colab": {
          "base_uri": "https://localhost:8080/"
        },
        "id": "UMdmQvgjREHA",
        "outputId": "3d5adaba-ffb0-44be-cdb4-fa2548824336"
      },
      "source": [
        "encoding=tokenizer.encode_plus(\n",
        "    sample_text,\n",
        "    max_length=32,\n",
        "    add_special_tokens=True,   # 'Add [SEP] & [CLS]'\n",
        "    pad_to_max_length=True,\n",
        "    truncation=True,\n",
        "    return_attention_mask=True,  # Reurns array of 0's & 1's to distinguish padded tokens from real tokens.\n",
        "    return_token_type_ids=False,\n",
        "    return_tensors='pt'         # Returns pytorch tensors\n",
        ")\n",
        "\n",
        "encoding.keys()"
      ],
      "execution_count": null,
      "outputs": [
        {
          "output_type": "execute_result",
          "data": {
            "text/plain": [
              "dict_keys(['input_ids', 'attention_mask'])"
            ]
          },
          "metadata": {
            "tags": []
          },
          "execution_count": 24
        }
      ]
    },
    {
      "cell_type": "markdown",
      "metadata": {
        "id": "zIamod9oa-Ko"
      },
      "source": [
        "Encoding contains input_ids & attention masks of same length 32 for each sentence."
      ]
    },
    {
      "cell_type": "code",
      "metadata": {
        "colab": {
          "base_uri": "https://localhost:8080/"
        },
        "id": "R-MYtiAlW_7O",
        "outputId": "69e88543-621f-41a8-9b30-df83049f29c1"
      },
      "source": [
        "# Check input_ids\n",
        "print('Maximum length of input_ids for each sentence : {}'.format(len(encoding['input_ids'][0])))\n",
        "encoding['input_ids'][0]"
      ],
      "execution_count": null,
      "outputs": [
        {
          "output_type": "stream",
          "text": [
            "Maximum length of input_ids for each sentence : 32\n"
          ],
          "name": "stdout"
        },
        {
          "output_type": "execute_result",
          "data": {
            "text/plain": [
              "tensor([ 101, 1996, 4111, 2134, 1005, 1056, 2892, 1996, 2395, 2138, 2009, 2001,\n",
              "        2205, 5458,  102,    0,    0,    0,    0,    0,    0,    0,    0,    0,\n",
              "           0,    0,    0,    0,    0,    0,    0,    0])"
            ]
          },
          "metadata": {
            "tags": []
          },
          "execution_count": 25
        }
      ]
    },
    {
      "cell_type": "code",
      "metadata": {
        "colab": {
          "base_uri": "https://localhost:8080/"
        },
        "id": "tAMZZHjfY5eV",
        "outputId": "b841881f-1b4d-47aa-f649-2aa19fc58a35"
      },
      "source": [
        "\n",
        "#check attention mask\n",
        "print(f\"Maximum length of attention mask for each sentence : {len(encoding['attention_mask'][0])}\")\n",
        "encoding['attention_mask'][0]"
      ],
      "execution_count": null,
      "outputs": [
        {
          "output_type": "stream",
          "text": [
            "Maximum length of attention mask for each sentence : 32\n"
          ],
          "name": "stdout"
        },
        {
          "output_type": "execute_result",
          "data": {
            "text/plain": [
              "tensor([1, 1, 1, 1, 1, 1, 1, 1, 1, 1, 1, 1, 1, 1, 1, 0, 0, 0, 0, 0, 0, 0, 0, 0,\n",
              "        0, 0, 0, 0, 0, 0, 0, 0])"
            ]
          },
          "metadata": {
            "tags": []
          },
          "execution_count": 26
        }
      ]
    },
    {
      "cell_type": "markdown",
      "metadata": {
        "id": "NK1Ym6mhcd8b"
      },
      "source": [
        "#### Let's convert token_ids to tokens to look at special tokens"
      ]
    },
    {
      "cell_type": "code",
      "metadata": {
        "colab": {
          "base_uri": "https://localhost:8080/"
        },
        "id": "3AsnCON0b1lC",
        "outputId": "25306388-3ded-410b-95e8-4050df9bd94c"
      },
      "source": [
        "special_tokens=tokenizer.convert_ids_to_tokens(encoding['input_ids'][0])\n",
        "special_tokens"
      ],
      "execution_count": null,
      "outputs": [
        {
          "output_type": "execute_result",
          "data": {
            "text/plain": [
              "['[CLS]',\n",
              " 'the',\n",
              " 'animal',\n",
              " 'didn',\n",
              " \"'\",\n",
              " 't',\n",
              " 'cross',\n",
              " 'the',\n",
              " 'street',\n",
              " 'because',\n",
              " 'it',\n",
              " 'was',\n",
              " 'too',\n",
              " 'tired',\n",
              " '[SEP]',\n",
              " '[PAD]',\n",
              " '[PAD]',\n",
              " '[PAD]',\n",
              " '[PAD]',\n",
              " '[PAD]',\n",
              " '[PAD]',\n",
              " '[PAD]',\n",
              " '[PAD]',\n",
              " '[PAD]',\n",
              " '[PAD]',\n",
              " '[PAD]',\n",
              " '[PAD]',\n",
              " '[PAD]',\n",
              " '[PAD]',\n",
              " '[PAD]',\n",
              " '[PAD]',\n",
              " '[PAD]']"
            ]
          },
          "metadata": {
            "tags": []
          },
          "execution_count": 27
        }
      ]
    },
    {
      "cell_type": "code",
      "metadata": {
        "id": "TxGrLOPjZ1U0",
        "colab": {
          "base_uri": "https://localhost:8080/"
        },
        "outputId": "cdedd460-2c6e-4686-ed1c-2220a107cd94"
      },
      "source": [
        "print(df.shape)\n",
        "df = df.dropna().reset_index()\n",
        "print(df.shape)"
      ],
      "execution_count": null,
      "outputs": [
        {
          "output_type": "stream",
          "text": [
            "(87442, 9)\n",
            "(87440, 10)\n"
          ],
          "name": "stdout"
        }
      ]
    },
    {
      "cell_type": "code",
      "metadata": {
        "id": "_uiyThv-Z3Ro"
      },
      "source": [],
      "execution_count": null,
      "outputs": []
    },
    {
      "cell_type": "markdown",
      "metadata": {
        "id": "zDEXXb47dnHb"
      },
      "source": [
        "### **Choosing Sequence length for our dataset**"
      ]
    },
    {
      "cell_type": "markdown",
      "metadata": {
        "id": "VvE_mTDt5y6m"
      },
      "source": [
        "#### Let's store the token length of each review"
      ]
    },
    {
      "cell_type": "code",
      "metadata": {
        "id": "TgL-rufIdtqC"
      },
      "source": [
        "token_lens=[]\n",
        "for content in df.text:\n",
        "  tokens_content=tokenizer.encode(content,max_length=150,truncation=True)\n",
        "  token_lens.append(len(tokens_content))"
      ],
      "execution_count": null,
      "outputs": []
    },
    {
      "cell_type": "code",
      "metadata": {
        "colab": {
          "base_uri": "https://localhost:8080/",
          "height": 415
        },
        "id": "hfEzugC67gKP",
        "outputId": "195b7a87-ae4c-4adb-c3fb-ab1c24315322"
      },
      "source": [
        "#Plot the tokens\n",
        "sns.distplot(token_lens)\n",
        "plt.xlim([0,150])\n",
        "plt.xlabel('Token count')"
      ],
      "execution_count": null,
      "outputs": [
        {
          "output_type": "execute_result",
          "data": {
            "text/plain": [
              "Text(0.5, 0, 'Token count')"
            ]
          },
          "metadata": {
            "tags": []
          },
          "execution_count": 30
        },
        {
          "output_type": "display_data",
          "data": {
            "image/png": "[encoded data removed]",
            "text/plain": [
              "<Figure size 864x432 with 1 Axes>"
            ]
          },
          "metadata": {
            "tags": [],
            "image/png": {
              "width": 749,
              "height": 381
            }
          }
        }
      ]
    },
    {
      "cell_type": "markdown",
      "metadata": {
        "id": "IYKrzOTsCBIr"
      },
      "source": [
        "It appears that the length of most tokens lies between 3 & 30. On safer side, we are taking maximum sequence length of 100."
      ]
    },
    {
      "cell_type": "code",
      "metadata": {
        "id": "eThcaLu2BCMB"
      },
      "source": [
        "Max_length=100"
      ],
      "execution_count": null,
      "outputs": []
    },
    {
      "cell_type": "markdown",
      "metadata": {
        "id": "ccePAd9tDL7c"
      },
      "source": [
        "Now let's create a **Pytorch dataset**"
      ]
    },
    {
      "cell_type": "markdown",
      "metadata": {
        "id": "cpceLJ-JVydO"
      },
      "source": [
        "Pytorch dataset is of map-style i.e., it implements __getitem__  &  __len__  protocols, & represents a map from indices/keys to datasamples."
      ]
    },
    {
      "cell_type": "code",
      "metadata": {
        "id": "JyLD8GVODJoe"
      },
      "source": [
        "class reviews_India_Dataset(Dataset):\n",
        "\n",
        "  def __init__(self,reviews,targets,tokenizer,max_length):\n",
        "    self.reviews=reviews\n",
        "    self.targets=targets\n",
        "    self.tokenizer=tokenizer\n",
        "    self.max_length=max_length\n",
        "\n",
        "  def __len__(self):\n",
        "    return len(self.reviews)\n",
        "\n",
        "  def __getitem__(self,item):\n",
        "    review = str(self.reviews[item])\n",
        "    targets = self.targets[item]\n",
        "\n",
        "    encoding = self.tokenizer.encode_plus(\n",
        "        review,\n",
        "        max_length=Max_length,\n",
        "        add_special_tokens=True,\n",
        "        pad_to_max_length=True,\n",
        "        truncation=True,\n",
        "        return_attention_mask=True,\n",
        "        return_token_type_ids=False,\n",
        "        return_tensors='pt'\n",
        "       )\n",
        "    return {\n",
        "        'review_text':review,\n",
        "        'input_ids':encoding['input_ids'].flatten(),\n",
        "        'attention_mask':encoding['attention_mask'].flatten(),\n",
        "        'targets' : torch.tensor(targets,dtype=torch.long)\n",
        "    }"
      ],
      "execution_count": null,
      "outputs": []
    },
    {
      "cell_type": "markdown",
      "metadata": {
        "id": "pTADp68MJY6q"
      },
      "source": [
        "### **Let's split the data**"
      ]
    },
    {
      "cell_type": "code",
      "metadata": {
        "colab": {
          "base_uri": "https://localhost:8080/"
        },
        "id": "sQszuRTDJe4r",
        "outputId": "488b7ff6-d256-425b-a4da-53c27093987b"
      },
      "source": [
        "df_train,df_test=train_test_split(df, test_size=0.2, random_state=42)\n",
        "df_valid,df_test = train_test_split(df_test,test_size=0.5,random_state=42)\n",
        "\n",
        "print('Print the shape of datasets...')\n",
        "print(f'Training dataset : {df_train.shape}')\n",
        "print(f'Testing dataset : {df_test.shape}')\n",
        "print(f'Validation dataset : {df_valid.shape}')"
      ],
      "execution_count": null,
      "outputs": [
        {
          "output_type": "stream",
          "text": [
            "Print the shape of datasets...\n",
            "Training dataset : (69952, 10)\n",
            "Testing dataset : (8744, 10)\n",
            "Validation dataset : (8744, 10)\n"
          ],
          "name": "stdout"
        }
      ]
    },
    {
      "cell_type": "markdown",
      "metadata": {
        "id": "ENXBARR6Lome"
      },
      "source": [
        "#### Now will create a helper function for **Data loader**"
      ]
    },
    {
      "cell_type": "code",
      "metadata": {
        "id": "9tObB8MzK46j"
      },
      "source": [
        "batch_size=32\n",
        "def data_loader(df, tokenizer, max_length, batch):\n",
        "  ds=reviews_India_Dataset(\n",
        "      reviews=df.text.to_numpy(),\n",
        "      targets=df.completed.to_numpy(),\n",
        "      tokenizer=tokenizer,\n",
        "      max_length=Max_length\n",
        "  )\n",
        "\n",
        "  return DataLoader(\n",
        "      ds,\n",
        "      batch_size=batch_size,\n",
        "      num_workers=4\n",
        "  )\n",
        "\n",
        "# Load datasets\n",
        "train_DataLoader=data_loader(df_train,tokenizer,Max_length,batch_size)\n",
        "test_DataLoader=data_loader(df_test,tokenizer,Max_length,batch_size)\n",
        "valid_DataLoader=data_loader(df_valid,tokenizer,Max_length,batch_size)"
      ],
      "execution_count": null,
      "outputs": []
    },
    {
      "cell_type": "markdown",
      "metadata": {
        "id": "sGJF4L2-Z0e-"
      },
      "source": [
        "#### Let's have a look at example batch from **training DataLoader**"
      ]
    },
    {
      "cell_type": "code",
      "metadata": {
        "colab": {
          "base_uri": "https://localhost:8080/"
        },
        "id": "6cMZ37F4UMPL",
        "outputId": "f07431fa-c677-4b48-8e6c-c76d126b3eb6"
      },
      "source": [
        "data=next(iter(train_DataLoader))\n",
        "data.keys()"
      ],
      "execution_count": null,
      "outputs": [
        {
          "output_type": "execute_result",
          "data": {
            "text/plain": [
              "dict_keys(['review_text', 'input_ids', 'attention_mask', 'targets'])"
            ]
          },
          "metadata": {
            "tags": []
          },
          "execution_count": 36
        }
      ]
    },
    {
      "cell_type": "code",
      "metadata": {
        "colab": {
          "base_uri": "https://localhost:8080/"
        },
        "id": "LxgCkEbebxWI",
        "outputId": "6283fac0-2217-4c3c-80bf-b9530fc88b17"
      },
      "source": [
        "print('Shape of the data keys...')\n",
        "print(f\"Input_ids : {data['input_ids'].shape}\")\n",
        "print(f\"Attention_mask : {data['attention_mask'].shape}\")\n",
        "print(f\"targets : {data['targets'].shape}\")"
      ],
      "execution_count": null,
      "outputs": [
        {
          "output_type": "stream",
          "text": [
            "Shape of the data keys...\n",
            "Input_ids : torch.Size([32, 100])\n",
            "Attention_mask : torch.Size([32, 100])\n",
            "targets : torch.Size([32])\n"
          ],
          "name": "stdout"
        }
      ]
    },
    {
      "cell_type": "markdown",
      "metadata": {
        "id": "5ZnjqKW0hl-b"
      },
      "source": [
        "## Let's build a Sentiment Classifier"
      ]
    },
    {
      "cell_type": "markdown",
      "metadata": {
        "id": "qtcusMOG-h9U"
      },
      "source": [
        "#### Let's load the basic BERT model"
      ]
    },
    {
      "cell_type": "code",
      "metadata": {
        "colab": {
          "base_uri": "https://localhost:8080/",
          "height": 115,
          "referenced_widgets": [
            "a41dfe0421e04e69a2eae1ea39ac47af",
            "6c0838e3539a418684f9e2485611aa1f",
            "733129eac8fe438eb9c9a4ee26c59169",
            "d4cad73958984de5b02fc0b985df226c",
            "b0ba4f04d1af4a6faf66552af5795d82",
            "b46c931af07f4f2aa825864437af5cdf",
            "95c06a30d6664fdcafeede256cae6a51",
            "34510feec7dc41a888db3c15de104117",
            "4acaa12636d0442592bce7c4dbdd09d4",
            "46990a238b9548a8a3e4bd289f56c9e4",
            "6ca2a3147e074003b4724b07b0f80456",
            "d86bcf68dfe641dca939f4e2dfee6fe9",
            "82ef3b9337af480d82ac77f4244cdf30",
            "b198a139702c43b09daff80ec8a6f1f1",
            "2226862e11b7428db043440dbd99f38b",
            "20ed4555b8ca42b38e630ce07b90022c"
          ]
        },
        "id": "TEWEZu2-3pMR",
        "outputId": "1ef2e7b5-4bf0-4524-b129-7bb32e855232"
      },
      "source": [
        "bert_model = BertModel.from_pretrained(Pre_trained_model)"
      ],
      "execution_count": null,
      "outputs": [
        {
          "output_type": "display_data",
          "data": {
            "application/vnd.jupyter.widget-view+json": {
              "model_id": "a41dfe0421e04e69a2eae1ea39ac47af",
              "version_minor": 0,
              "version_major": 2
            },
            "text/plain": [
              "HBox(children=(FloatProgress(value=0.0, description='Downloading', max=433.0, style=ProgressStyle(description_…"
            ]
          },
          "metadata": {
            "tags": []
          }
        },
        {
          "output_type": "stream",
          "text": [
            "\n"
          ],
          "name": "stdout"
        },
        {
          "output_type": "display_data",
          "data": {
            "application/vnd.jupyter.widget-view+json": {
              "model_id": "4acaa12636d0442592bce7c4dbdd09d4",
              "version_minor": 0,
              "version_major": 2
            },
            "text/plain": [
              "HBox(children=(FloatProgress(value=0.0, description='Downloading', max=440473133.0, style=ProgressStyle(descri…"
            ]
          },
          "metadata": {
            "tags": []
          }
        },
        {
          "output_type": "stream",
          "text": [
            "\n"
          ],
          "name": "stdout"
        }
      ]
    },
    {
      "cell_type": "code",
      "metadata": {
        "colab": {
          "base_uri": "https://localhost:8080/",
          "height": 115,
          "referenced_widgets": [
            "cd4765e3db274e6496f9e10ca4e3adb8",
            "258b5d5c916c46f087690079c6deff7f",
            "7313d9e2d9ab474ca338ab29fe0efb84",
            "d447f86796494899ba05b27d8f8d2dc6",
            "76c86d99f33f48ab9d9b3fa17c6660cb",
            "49bb01a558a9499e85595300f0e23540",
            "f5c968fbe059415abdec178afd86d6da",
            "ece8579542774cf7b05caf0c6785b62d",
            "5e0e385b6feb4b8db3e5f4ac513513da",
            "624296e584554b6f937f7d9acdadf04f",
            "4d113b6317ea43d6a9ad8627bfb6019a",
            "59cf50e8a27f4d3ebe3d3da3bc5d0fb2",
            "c012f3414fd74d118ad0a802c1ddb09d",
            "d4955afe58514fab8ec56fcc303aaa2c",
            "89a850588aa645b78509b38a53440ead",
            "fffa01df3d684def9e48c832587b7fe9"
          ]
        },
        "id": "_tgwx38gtc6D",
        "outputId": "414f67dc-7cb5-46cf-aac0-ea0b5e3f39bc"
      },
      "source": [
        "from transformers import AutoTokenizer\n",
        "\n",
        "tokenizer = AutoTokenizer.from_pretrained(\"bert-base-cased\", use_fast=False)"
      ],
      "execution_count": null,
      "outputs": [
        {
          "output_type": "display_data",
          "data": {
            "application/vnd.jupyter.widget-view+json": {
              "model_id": "cd4765e3db274e6496f9e10ca4e3adb8",
              "version_minor": 0,
              "version_major": 2
            },
            "text/plain": [
              "HBox(children=(FloatProgress(value=0.0, description='Downloading', max=433.0, style=ProgressStyle(description_…"
            ]
          },
          "metadata": {
            "tags": []
          }
        },
        {
          "output_type": "stream",
          "text": [
            "\n"
          ],
          "name": "stdout"
        },
        {
          "output_type": "display_data",
          "data": {
            "application/vnd.jupyter.widget-view+json": {
              "model_id": "5e0e385b6feb4b8db3e5f4ac513513da",
              "version_minor": 0,
              "version_major": 2
            },
            "text/plain": [
              "HBox(children=(FloatProgress(value=0.0, description='Downloading', max=213450.0, style=ProgressStyle(descripti…"
            ]
          },
          "metadata": {
            "tags": []
          }
        },
        {
          "output_type": "stream",
          "text": [
            "\n"
          ],
          "name": "stdout"
        }
      ]
    },
    {
      "cell_type": "code",
      "metadata": {
        "colab": {
          "base_uri": "https://localhost:8080/"
        },
        "id": "_V0stXnLtp09",
        "outputId": "94304b2f-04f4-4eb9-ee39-38876888fdfc"
      },
      "source": [
        "pip install transformers sentencepiece -q"
      ],
      "execution_count": null,
      "outputs": [
        {
          "output_type": "stream",
          "text": [
            "\u001b[?25l\r\u001b[K     |▎                               | 10kB 23.7MB/s eta 0:00:01\r\u001b[K     |▌                               | 20kB 28.4MB/s eta 0:00:01\r\u001b[K     |▉                               | 30kB 24.9MB/s eta 0:00:01\r\u001b[K     |█                               | 40kB 18.0MB/s eta 0:00:01\r\u001b[K     |█▍                              | 51kB 15.5MB/s eta 0:00:01\r\u001b[K     |█▋                              | 61kB 17.4MB/s eta 0:00:01\r\u001b[K     |██                              | 71kB 14.3MB/s eta 0:00:01\r\u001b[K     |██▏                             | 81kB 14.8MB/s eta 0:00:01\r\u001b[K     |██▌                             | 92kB 14.3MB/s eta 0:00:01\r\u001b[K     |██▊                             | 102kB 14.6MB/s eta 0:00:01\r\u001b[K     |███                             | 112kB 14.6MB/s eta 0:00:01\r\u001b[K     |███▎                            | 122kB 14.6MB/s eta 0:00:01\r\u001b[K     |███▌                            | 133kB 14.6MB/s eta 0:00:01\r\u001b[K     |███▉                            | 143kB 14.6MB/s eta 0:00:01\r\u001b[K     |████                            | 153kB 14.6MB/s eta 0:00:01\r\u001b[K     |████▍                           | 163kB 14.6MB/s eta 0:00:01\r\u001b[K     |████▋                           | 174kB 14.6MB/s eta 0:00:01\r\u001b[K     |█████                           | 184kB 14.6MB/s eta 0:00:01\r\u001b[K     |█████▏                          | 194kB 14.6MB/s eta 0:00:01\r\u001b[K     |█████▌                          | 204kB 14.6MB/s eta 0:00:01\r\u001b[K     |█████▊                          | 215kB 14.6MB/s eta 0:00:01\r\u001b[K     |██████                          | 225kB 14.6MB/s eta 0:00:01\r\u001b[K     |██████▎                         | 235kB 14.6MB/s eta 0:00:01\r\u001b[K     |██████▌                         | 245kB 14.6MB/s eta 0:00:01\r\u001b[K     |██████▉                         | 256kB 14.6MB/s eta 0:00:01\r\u001b[K     |███████                         | 266kB 14.6MB/s eta 0:00:01\r\u001b[K     |███████▍                        | 276kB 14.6MB/s eta 0:00:01\r\u001b[K     |███████▋                        | 286kB 14.6MB/s eta 0:00:01\r\u001b[K     |████████                        | 296kB 14.6MB/s eta 0:00:01\r\u001b[K     |████████▏                       | 307kB 14.6MB/s eta 0:00:01\r\u001b[K     |████████▍                       | 317kB 14.6MB/s eta 0:00:01\r\u001b[K     |████████▊                       | 327kB 14.6MB/s eta 0:00:01\r\u001b[K     |█████████                       | 337kB 14.6MB/s eta 0:00:01\r\u001b[K     |█████████▎                      | 348kB 14.6MB/s eta 0:00:01\r\u001b[K     |█████████▌                      | 358kB 14.6MB/s eta 0:00:01\r\u001b[K     |█████████▉                      | 368kB 14.6MB/s eta 0:00:01\r\u001b[K     |██████████                      | 378kB 14.6MB/s eta 0:00:01\r\u001b[K     |██████████▍                     | 389kB 14.6MB/s eta 0:00:01\r\u001b[K     |██████████▋                     | 399kB 14.6MB/s eta 0:00:01\r\u001b[K     |███████████                     | 409kB 14.6MB/s eta 0:00:01\r\u001b[K     |███████████▏                    | 419kB 14.6MB/s eta 0:00:01\r\u001b[K     |███████████▍                    | 430kB 14.6MB/s eta 0:00:01\r\u001b[K     |███████████▊                    | 440kB 14.6MB/s eta 0:00:01\r\u001b[K     |████████████                    | 450kB 14.6MB/s eta 0:00:01\r\u001b[K     |████████████▎                   | 460kB 14.6MB/s eta 0:00:01\r\u001b[K     |████████████▌                   | 471kB 14.6MB/s eta 0:00:01\r\u001b[K     |████████████▉                   | 481kB 14.6MB/s eta 0:00:01\r\u001b[K     |█████████████                   | 491kB 14.6MB/s eta 0:00:01\r\u001b[K     |█████████████▍                  | 501kB 14.6MB/s eta 0:00:01\r\u001b[K     |█████████████▋                  | 512kB 14.6MB/s eta 0:00:01\r\u001b[K     |█████████████▉                  | 522kB 14.6MB/s eta 0:00:01\r\u001b[K     |██████████████▏                 | 532kB 14.6MB/s eta 0:00:01\r\u001b[K     |██████████████▍                 | 542kB 14.6MB/s eta 0:00:01\r\u001b[K     |██████████████▊                 | 552kB 14.6MB/s eta 0:00:01\r\u001b[K     |███████████████                 | 563kB 14.6MB/s eta 0:00:01\r\u001b[K     |███████████████▎                | 573kB 14.6MB/s eta 0:00:01\r\u001b[K     |███████████████▌                | 583kB 14.6MB/s eta 0:00:01\r\u001b[K     |███████████████▉                | 593kB 14.6MB/s eta 0:00:01\r\u001b[K     |████████████████                | 604kB 14.6MB/s eta 0:00:01\r\u001b[K     |████████████████▍               | 614kB 14.6MB/s eta 0:00:01\r\u001b[K     |████████████████▋               | 624kB 14.6MB/s eta 0:00:01\r\u001b[K     |████████████████▉               | 634kB 14.6MB/s eta 0:00:01\r\u001b[K     |█████████████████▏              | 645kB 14.6MB/s eta 0:00:01\r\u001b[K     |█████████████████▍              | 655kB 14.6MB/s eta 0:00:01\r\u001b[K     |█████████████████▊              | 665kB 14.6MB/s eta 0:00:01\r\u001b[K     |██████████████████              | 675kB 14.6MB/s eta 0:00:01\r\u001b[K     |██████████████████▎             | 686kB 14.6MB/s eta 0:00:01\r\u001b[K     |██████████████████▌             | 696kB 14.6MB/s eta 0:00:01\r\u001b[K     |██████████████████▉             | 706kB 14.6MB/s eta 0:00:01\r\u001b[K     |███████████████████             | 716kB 14.6MB/s eta 0:00:01\r\u001b[K     |███████████████████▎            | 727kB 14.6MB/s eta 0:00:01\r\u001b[K     |███████████████████▋            | 737kB 14.6MB/s eta 0:00:01\r\u001b[K     |███████████████████▉            | 747kB 14.6MB/s eta 0:00:01\r\u001b[K     |████████████████████▏           | 757kB 14.6MB/s eta 0:00:01\r\u001b[K     |████████████████████▍           | 768kB 14.6MB/s eta 0:00:01\r\u001b[K     |████████████████████▊           | 778kB 14.6MB/s eta 0:00:01\r\u001b[K     |█████████████████████           | 788kB 14.6MB/s eta 0:00:01\r\u001b[K     |█████████████████████▎          | 798kB 14.6MB/s eta 0:00:01\r\u001b[K     |█████████████████████▌          | 808kB 14.6MB/s eta 0:00:01\r\u001b[K     |█████████████████████▉          | 819kB 14.6MB/s eta 0:00:01\r\u001b[K     |██████████████████████          | 829kB 14.6MB/s eta 0:00:01\r\u001b[K     |██████████████████████▎         | 839kB 14.6MB/s eta 0:00:01\r\u001b[K     |██████████████████████▋         | 849kB 14.6MB/s eta 0:00:01\r\u001b[K     |██████████████████████▉         | 860kB 14.6MB/s eta 0:00:01\r\u001b[K     |███████████████████████▏        | 870kB 14.6MB/s eta 0:00:01\r\u001b[K     |███████████████████████▍        | 880kB 14.6MB/s eta 0:00:01\r\u001b[K     |███████████████████████▊        | 890kB 14.6MB/s eta 0:00:01\r\u001b[K     |████████████████████████        | 901kB 14.6MB/s eta 0:00:01\r\u001b[K     |████████████████████████▎       | 911kB 14.6MB/s eta 0:00:01\r\u001b[K     |████████████████████████▌       | 921kB 14.6MB/s eta 0:00:01\r\u001b[K     |████████████████████████▊       | 931kB 14.6MB/s eta 0:00:01\r\u001b[K     |█████████████████████████       | 942kB 14.6MB/s eta 0:00:01\r\u001b[K     |█████████████████████████▎      | 952kB 14.6MB/s eta 0:00:01\r\u001b[K     |█████████████████████████▋      | 962kB 14.6MB/s eta 0:00:01\r\u001b[K     |█████████████████████████▉      | 972kB 14.6MB/s eta 0:00:01\r\u001b[K     |██████████████████████████▏     | 983kB 14.6MB/s eta 0:00:01\r\u001b[K     |██████████████████████████▍     | 993kB 14.6MB/s eta 0:00:01\r\u001b[K     |██████████████████████████▊     | 1.0MB 14.6MB/s eta 0:00:01\r\u001b[K     |███████████████████████████     | 1.0MB 14.6MB/s eta 0:00:01\r\u001b[K     |███████████████████████████▎    | 1.0MB 14.6MB/s eta 0:00:01\r\u001b[K     |███████████████████████████▌    | 1.0MB 14.6MB/s eta 0:00:01\r\u001b[K     |███████████████████████████▊    | 1.0MB 14.6MB/s eta 0:00:01\r\u001b[K     |████████████████████████████    | 1.1MB 14.6MB/s eta 0:00:01\r\u001b[K     |████████████████████████████▎   | 1.1MB 14.6MB/s eta 0:00:01\r\u001b[K     |████████████████████████████▋   | 1.1MB 14.6MB/s eta 0:00:01\r\u001b[K     |████████████████████████████▉   | 1.1MB 14.6MB/s eta 0:00:01\r\u001b[K     |█████████████████████████████▏  | 1.1MB 14.6MB/s eta 0:00:01\r\u001b[K     |█████████████████████████████▍  | 1.1MB 14.6MB/s eta 0:00:01\r\u001b[K     |█████████████████████████████▊  | 1.1MB 14.6MB/s eta 0:00:01\r\u001b[K     |██████████████████████████████  | 1.1MB 14.6MB/s eta 0:00:01\r\u001b[K     |██████████████████████████████▏ | 1.1MB 14.6MB/s eta 0:00:01\r\u001b[K     |██████████████████████████████▌ | 1.1MB 14.6MB/s eta 0:00:01\r\u001b[K     |██████████████████████████████▊ | 1.2MB 14.6MB/s eta 0:00:01\r\u001b[K     |███████████████████████████████ | 1.2MB 14.6MB/s eta 0:00:01\r\u001b[K     |███████████████████████████████▎| 1.2MB 14.6MB/s eta 0:00:01\r\u001b[K     |███████████████████████████████▋| 1.2MB 14.6MB/s eta 0:00:01\r\u001b[K     |███████████████████████████████▉| 1.2MB 14.6MB/s eta 0:00:01\r\u001b[K     |████████████████████████████████| 1.2MB 14.6MB/s \n",
            "\u001b[?25h"
          ],
          "name": "stdout"
        }
      ]
    },
    {
      "cell_type": "markdown",
      "metadata": {
        "id": "cge2eSIEBYKQ"
      },
      "source": [
        "Now create a classifier that uses BERT model"
      ]
    },
    {
      "cell_type": "code",
      "metadata": {
        "id": "3saSV0VDAjdi"
      },
      "source": [
        "class SentimentClassifier(nn.Module):\n",
        "  def __init__(self, n_classes):\n",
        "    super(SentimentClassifier, self).__init__()\n",
        "    self.bert = BertModel.from_pretrained(Pre_trained_model)\n",
        "    self.drop = nn.Dropout(p=0.5)\n",
        "    self.out = nn.Linear(self.bert.config.hidden_size, n_classes)\n",
        "  def forward(self, input_ids, attention_mask):\n",
        "    _, pooled_output = self.bert(\n",
        "      input_ids=input_ids,\n",
        "      attention_mask=attention_mask,return_dict=False\n",
        "    )\n",
        "    output = self.drop(pooled_output)\n",
        "    return self.out(output)"
      ],
      "execution_count": null,
      "outputs": []
    },
    {
      "cell_type": "markdown",
      "metadata": {
        "id": "X_E-60SUCFMK"
      },
      "source": [
        "The **pooled_output** is a summary of the content, according to BERT & it is obtained by applying **BertPooler** on **last_hidden_state.**      \n",
        "We are using a **dropout layer** for some regularization and a **fully-connected layer** for our output."
      ]
    },
    {
      "cell_type": "markdown",
      "metadata": {
        "id": "4HjY-C8UDLYp"
      },
      "source": [
        "### Let’s create an instance and move it to the GPU"
      ]
    },
    {
      "cell_type": "code",
      "metadata": {
        "id": "lonuc6gVB-Kt"
      },
      "source": [
        "model = SentimentClassifier(2)         #Create an instance / object\n",
        "model = model.to(device)                              # Move instance to GPU           "
      ],
      "execution_count": null,
      "outputs": []
    },
    {
      "cell_type": "markdown",
      "metadata": {
        "id": "agVrhZheD2uG"
      },
      "source": [
        "Now move the  batch training data to the GPU:"
      ]
    },
    {
      "cell_type": "code",
      "metadata": {
        "colab": {
          "base_uri": "https://localhost:8080/"
        },
        "id": "x5lENsyaDrQY",
        "outputId": "c8c8735e-9b4e-45c4-a3b3-e1f999066167"
      },
      "source": [
        "input_ids = data['input_ids'].to(device)\n",
        "attention_mask = data['attention_mask'].to(device)\n",
        "print(input_ids.shape)      # batch size x seq length\n",
        "print(attention_mask.shape) # batch size x seq length"
      ],
      "execution_count": null,
      "outputs": [
        {
          "output_type": "stream",
          "text": [
            "torch.Size([32, 100])\n",
            "torch.Size([32, 100])\n"
          ],
          "name": "stdout"
        }
      ]
    },
    {
      "cell_type": "markdown",
      "metadata": {
        "id": "siQsiq-iEZ-K"
      },
      "source": [
        "Apply softmax function to outputs to get the predicted probabilities from our trained model."
      ]
    },
    {
      "cell_type": "code",
      "metadata": {
        "colab": {
          "base_uri": "https://localhost:8080/"
        },
        "id": "P3VJR78GES7f",
        "outputId": "b5f265c1-eaeb-4998-a187-4ce1882106cb"
      },
      "source": [
        "F.softmax(model(input_ids,attention_mask,), dim=1)"
      ],
      "execution_count": null,
      "outputs": [
        {
          "output_type": "execute_result",
          "data": {
            "text/plain": [
              "tensor([[0.5776, 0.4224],\n",
              "        [0.6337, 0.3663],\n",
              "        [0.6847, 0.3153],\n",
              "        [0.7248, 0.2752],\n",
              "        [0.4263, 0.5737],\n",
              "        [0.6849, 0.3151],\n",
              "        [0.3433, 0.6567],\n",
              "        [0.7024, 0.2976],\n",
              "        [0.7317, 0.2683],\n",
              "        [0.5855, 0.4145],\n",
              "        [0.5230, 0.4770],\n",
              "        [0.6732, 0.3268],\n",
              "        [0.3971, 0.6029],\n",
              "        [0.4202, 0.5798],\n",
              "        [0.6136, 0.3864],\n",
              "        [0.6989, 0.3011],\n",
              "        [0.4693, 0.5307],\n",
              "        [0.7016, 0.2984],\n",
              "        [0.5882, 0.4118],\n",
              "        [0.5812, 0.4188],\n",
              "        [0.6811, 0.3189],\n",
              "        [0.5086, 0.4914],\n",
              "        [0.5291, 0.4709],\n",
              "        [0.5111, 0.4889],\n",
              "        [0.5622, 0.4378],\n",
              "        [0.3514, 0.6486],\n",
              "        [0.6444, 0.3556],\n",
              "        [0.7923, 0.2077],\n",
              "        [0.5741, 0.4259],\n",
              "        [0.5137, 0.4863],\n",
              "        [0.5441, 0.4559],\n",
              "        [0.6183, 0.3817]], device='cuda:0', grad_fn=<SoftmaxBackward>)"
            ]
          },
          "metadata": {
            "tags": []
          },
          "execution_count": 44
        }
      ]
    },
    {
      "cell_type": "markdown",
      "metadata": {
        "id": "QKCipoMnioeM"
      },
      "source": [
        "# Let's train our sentiment classifier"
      ]
    },
    {
      "cell_type": "markdown",
      "metadata": {
        "id": "YUmcQYHBi3Xg"
      },
      "source": [
        "As per original paper on BERT, we will use [AdamW]('https://huggingface.co/transformers/main_classes/optimizer_schedules.html#adamw') optimizer for correcting weight decay. We will also use, linear scheduler with no warm up steps:"
      ]
    },
    {
      "cell_type": "code",
      "metadata": {
        "id": "Dw8XhH-kj4JE"
      },
      "source": [
        "epochs=5\n",
        "optimizer=AdamW(model.parameters(),lr=2e-5,correct_bias=False)\n",
        "total_steps=len(train_DataLoader)*epochs\n",
        "\n",
        "scheduler=get_linear_schedule_with_warmup(\n",
        "    optimizer,\n",
        "    num_warmup_steps=0,\n",
        "    num_training_steps=total_steps\n",
        ")\n",
        "\n",
        "loss_fn=nn.CrossEntropyLoss().to(device)"
      ],
      "execution_count": null,
      "outputs": []
    },
    {
      "cell_type": "markdown",
      "metadata": {
        "id": "rHcniPACp508"
      },
      "source": [
        "Now write a helper function to train our model:"
      ]
    },
    {
      "cell_type": "code",
      "metadata": {
        "id": "WKTWo3TdjKep"
      },
      "source": [
        "def train(\n",
        "  model,\n",
        "  data_loader,\n",
        "  loss_fn,\n",
        "  optimizer,\n",
        "  device,\n",
        "  scheduler,\n",
        "  n_observations\n",
        "):\n",
        "  model = model.train()\n",
        "  losses = []\n",
        "  correct_predictions = 0\n",
        "  for d in data_loader:\n",
        "    input_ids = d[\"input_ids\"].to(device)\n",
        "    attention_mask = d[\"attention_mask\"].to(device)\n",
        "    targets = d[\"targets\"].to(device)\n",
        "    #Feed data to BERT model\n",
        "    outputs = model(\n",
        "      input_ids=input_ids,\n",
        "      attention_mask=attention_mask\n",
        "    )\n",
        "    _, preds = torch.max(outputs, dim=1)\n",
        "    loss = loss_fn(outputs, targets)\n",
        "    correct_predictions += torch.sum(preds == targets)\n",
        "    losses.append(loss.item())\n",
        "    loss.backward()\n",
        "    nn.utils.clip_grad_norm_(model.parameters(), max_norm=1.0)     # Clip gradients to avoid exploding gradient problem\n",
        "    optimizer.step()\n",
        "    scheduler.step()\n",
        "    optimizer.zero_grad()\n",
        "  return correct_predictions.double() / n_observations, np.mean(losses)"
      ],
      "execution_count": null,
      "outputs": []
    },
    {
      "cell_type": "markdown",
      "metadata": {
        "id": "-gjX1egIqvsX"
      },
      "source": [
        "Similarly, write a helper function to evaluate our model:"
      ]
    },
    {
      "cell_type": "code",
      "metadata": {
        "id": "V6P6DHrPnJy_"
      },
      "source": [
        "def eval_model(model, data_loader,device,loss_fn, n_observations):\n",
        "  model = model.eval()\n",
        "  losses = []\n",
        "  correct_predictions = 0\n",
        "  with torch.no_grad():\n",
        "    for d in data_loader:\n",
        "      input_ids = d[\"input_ids\"].to(device)\n",
        "      attention_mask = d[\"attention_mask\"].to(device)\n",
        "      targets = d[\"targets\"].to(device)\n",
        "      # Feed data to BERT model\n",
        "      outputs = model(\n",
        "        input_ids=input_ids,\n",
        "        attention_mask=attention_mask\n",
        "      )\n",
        "      _, preds = torch.max(outputs, dim=1)\n",
        "      loss = loss_fn(outputs, targets)\n",
        "      correct_predictions += torch.sum(preds == targets)\n",
        "      losses.append(loss.item())\n",
        "  return correct_predictions.double() / n_observations, np.mean(losses)"
      ],
      "execution_count": null,
      "outputs": []
    },
    {
      "cell_type": "markdown",
      "metadata": {
        "id": "smGTpkJ3rNFi"
      },
      "source": [
        "Using above helper functions, write our training loop & store training history:"
      ]
    },
    {
      "cell_type": "code",
      "metadata": {
        "id": "2WpymyiEnTA3",
        "colab": {
          "base_uri": "https://localhost:8080/"
        },
        "outputId": "b450efbb-9dd3-4ab0-e89e-708db0e872e1"
      },
      "source": [
        "%%time\n",
        "history = defaultdict(list)\n",
        "best_accuracy = 0\n",
        "for epoch in range(epochs):\n",
        "  print(f'Epoch {epoch + 1}/{epochs}')\n",
        "  print('-' * 10)\n",
        "  train_acc, train_loss = train(\n",
        "    model,\n",
        "    train_DataLoader,\n",
        "    loss_fn,\n",
        "    optimizer,\n",
        "    device,\n",
        "    scheduler,\n",
        "    len(df_train)\n",
        "  )\n",
        "  print(f'Train loss {train_loss} accuracy {train_acc}')\n",
        "  val_acc, val_loss = eval_model(\n",
        "    model,\n",
        "    valid_DataLoader,\n",
        "    device,\n",
        "    loss_fn,\n",
        "    len(df_valid)\n",
        "  )\n",
        "  print(f'Validation  loss {val_loss} accuracy {val_acc}')\n",
        "  print()\n",
        "  history['train_acc'].append(train_acc)\n",
        "  history['train_loss'].append(train_loss)\n",
        "  history['val_acc'].append(val_acc)\n",
        "  history['val_loss'].append(val_loss)\n",
        "  if val_acc > best_accuracy:\n",
        "    torch.save(model.state_dict(), 'best_model_state.bin')\n",
        "    best_accuracy = val_acc"
      ],
      "execution_count": null,
      "outputs": [
        {
          "output_type": "stream",
          "text": [
            "Epoch 1/5\n",
            "----------\n",
            "Train loss 0.4458862044128495 accuracy 0.8403333714547119\n",
            "Validation  loss 0.43622981936392125 accuracy 0.8429780420860019\n",
            "\n",
            "Epoch 2/5\n",
            "----------\n",
            "Train loss 0.4421901469138491 accuracy 0.8406764638609332\n",
            "Validation  loss 0.43457263713553 accuracy 0.8429780420860019\n",
            "\n",
            "Epoch 3/5\n",
            "----------\n",
            "Train loss 0.44067943798274156 accuracy 0.8406764638609332\n",
            "Validation  loss 0.4341120606791364 accuracy 0.8429780420860019\n",
            "\n",
            "Epoch 4/5\n",
            "----------\n",
            "Train loss 0.4403836770700623 accuracy 0.8406764638609332\n",
            "Validation  loss 0.4339787695203384 accuracy 0.8429780420860019\n",
            "\n",
            "Epoch 5/5\n",
            "----------\n",
            "Train loss 0.4399758287980703 accuracy 0.8406764638609332\n",
            "Validation  loss 0.43399466867864567 accuracy 0.8429780420860019\n",
            "\n",
            "CPU times: user 38min 2s, sys: 21min 22s, total: 59min 24s\n",
            "Wall time: 59min 38s\n"
          ],
          "name": "stdout"
        }
      ]
    },
    {
      "cell_type": "markdown",
      "metadata": {
        "id": "g52g_vk1EMti"
      },
      "source": [
        "We got 87.5 % validation accuracy for 5 epochs, not bad.The number of epochs \n",
        "can be increased to get higher validation accuracy.\n"
      ]
    },
    {
      "cell_type": "markdown",
      "metadata": {
        "id": "QvviCPDrEmDg"
      },
      "source": [
        "Let's look at training vs validation accuracy:"
      ]
    },
    {
      "cell_type": "code",
      "metadata": {
        "id": "bQFi5vwbpSnL",
        "colab": {
          "base_uri": "https://localhost:8080/",
          "height": 415
        },
        "outputId": "ff6fb104-01be-4a4c-c2d8-ec44fda5ba29"
      },
      "source": [
        "plt.plot(history['train_acc'], label='train accuracy')\n",
        "plt.plot(history['val_acc'], label='validation accuracy')\n",
        "plt.title('Training history')\n",
        "plt.ylabel('Accuracy')\n",
        "plt.xlabel('Epoch')\n",
        "plt.legend()\n",
        "plt.ylim([0, 1]);"
      ],
      "execution_count": null,
      "outputs": [
        {
          "output_type": "display_data",
          "data": {
            "image/png": "[encoded data removed]",
            "text/plain": [
              "<Figure size 864x432 with 1 Axes>"
            ]
          },
          "metadata": {
            "tags": [],
            "image/png": {
              "width": 732,
              "height": 398
            }
          }
        }
      ]
    },
    {
      "cell_type": "markdown",
      "metadata": {
        "id": "c92Wb927FZ_Z"
      },
      "source": [
        "# Model Evaluation"
      ]
    },
    {
      "cell_type": "markdown",
      "metadata": {
        "id": "2VcarWtkFd_p"
      },
      "source": [
        "Let's see how good our model on unseen data."
      ]
    },
    {
      "cell_type": "code",
      "metadata": {
        "id": "Rv8baMsxFo8k"
      },
      "source": [
        "test_acc, _ = eval_model(\n",
        "  model,\n",
        "  test_DataLoader,\n",
        "  device,\n",
        "  loss_fn,\n",
        "  len(df_test)\n",
        ")"
      ],
      "execution_count": null,
      "outputs": []
    },
    {
      "cell_type": "code",
      "metadata": {
        "id": "fQXaR1XXGHc4",
        "colab": {
          "base_uri": "https://localhost:8080/"
        },
        "outputId": "1226eeb6-7bdb-4b9d-d6eb-716cd8c36edb"
      },
      "source": [
        "test_acc.item()"
      ],
      "execution_count": null,
      "outputs": [
        {
          "output_type": "execute_result",
          "data": {
            "text/plain": [
              "0.8434354986276305"
            ]
          },
          "metadata": {
            "tags": []
          },
          "execution_count": 51
        }
      ]
    },
    {
      "cell_type": "markdown",
      "metadata": {
        "id": "e8Zom0iJGQnE"
      },
      "source": [
        "That is model performing well on test data, we are getting 88.11 % accuracy which is 0.611% more than validation accuracy. It seems model is generalizing well."
      ]
    },
    {
      "cell_type": "markdown",
      "metadata": {
        "id": "vmRL97lZFmjd"
      },
      "source": [
        "Now we will write helper function to get the predictions from our model:"
      ]
    },
    {
      "cell_type": "code",
      "metadata": {
        "id": "sVy4mBJXuyPN"
      },
      "source": [
        "def get_predictions(model, data_loader):\n",
        "  model = model.eval()\n",
        "  review_texts = []\n",
        "  predictions = []\n",
        "  prediction_probs = []\n",
        "  real_values = []\n",
        "\n",
        "  with torch.no_grad():\n",
        "    for d in data_loader:\n",
        "      texts = d[\"review_text\"]\n",
        "      input_ids = d[\"input_ids\"].to(device)\n",
        "      attention_mask = d[\"attention_mask\"].to(device)\n",
        "      targets = d[\"targets\"].to(device)\n",
        "      outputs = model(\n",
        "        input_ids=input_ids,\n",
        "        attention_mask=attention_mask\n",
        "      )\n",
        "      _, preds = torch.max(outputs, dim=1)\n",
        "      review_texts.extend(texts)\n",
        "      predictions.extend(preds)\n",
        "      prediction_probs.extend(outputs)\n",
        "      real_values.extend(targets)\n",
        "\n",
        "  predictions = torch.stack(predictions).cpu()\n",
        "  prediction_probs = torch.stack(prediction_probs).cpu()\n",
        "  real_values = torch.stack(real_values).cpu()\n",
        "  return review_texts, predictions, prediction_probs, real_values"
      ],
      "execution_count": null,
      "outputs": []
    },
    {
      "cell_type": "code",
      "metadata": {
        "id": "LPv0RdZ5v3ya"
      },
      "source": [
        "y_review_texts, y_pred, y_pred_probs, y_test = get_predictions(\n",
        "  model,\n",
        "  test_DataLoader\n",
        ")"
      ],
      "execution_count": null,
      "outputs": []
    },
    {
      "cell_type": "markdown",
      "metadata": {
        "id": "JuCRh59_HLF2"
      },
      "source": [
        "Let's have a look at the classification report:"
      ]
    },
    {
      "cell_type": "code",
      "metadata": {
        "id": "GFRfQj2ByCn_",
        "colab": {
          "base_uri": "https://localhost:8080/"
        },
        "outputId": "578cd28a-dd26-44ef-8b65-21b0c5ee5c3c"
      },
      "source": [
        "class_report=classification_report(y_test, y_pred)\n",
        "print(class_report)"
      ],
      "execution_count": null,
      "outputs": [
        {
          "output_type": "stream",
          "text": [
            "              precision    recall  f1-score   support\n",
            "\n",
            "           0       0.84      1.00      0.92      7375\n",
            "           1       0.00      0.00      0.00      1369\n",
            "\n",
            "    accuracy                           0.84      8744\n",
            "   macro avg       0.42      0.50      0.46      8744\n",
            "weighted avg       0.71      0.84      0.77      8744\n",
            "\n"
          ],
          "name": "stdout"
        }
      ]
    },
    {
      "cell_type": "markdown",
      "metadata": {
        "id": "CtOjbPbi24Wk"
      },
      "source": [
        "We are getting f1-score=0.88, not bad. This model can be fine tuned further to get high f1-scores."
      ]
    },
    {
      "cell_type": "markdown",
      "metadata": {
        "id": "FS8vz7AHHZkG"
      },
      "source": [
        "Now will plot confusion matrix:"
      ]
    },
    {
      "cell_type": "code",
      "metadata": {
        "id": "BwqN9AkOy4dm",
        "colab": {
          "base_uri": "https://localhost:8080/",
          "height": 400
        },
        "outputId": "d259115c-3992-40a8-b3a7-4e3e558d7c54"
      },
      "source": [
        "def show_confusion_matrix(confusion_matrix):\n",
        "  hmap = sns.heatmap(confusion_matrix, annot=True, fmt=\"d\", cmap=\"Blues\")\n",
        "  hmap.yaxis.set_ticklabels(hmap.yaxis.get_ticklabels(),rotation=0, ha='right')\n",
        "  hmap.xaxis.set_ticklabels(hmap.xaxis.get_ticklabels(),rotation=30, ha='right')\n",
        "  plt.ylabel('True sentiment')\n",
        "  plt.xlabel('Predicted sentiment');\n",
        "cm = confusion_matrix(y_test, y_pred)\n",
        "show_confusion_matrix(cm)"
      ],
      "execution_count": null,
      "outputs": [
        {
          "output_type": "display_data",
          "data": {
            "image/png": "[encoded data removed]",
            "text/plain": [
              "<Figure size 864x432 with 2 Axes>"
            ]
          },
          "metadata": {
            "tags": [],
            "image/png": {
              "width": 678,
              "height": 383
            }
          }
        }
      ]
    },
    {
      "cell_type": "markdown",
      "metadata": {
        "id": "Zj-2Cthj46nT"
      },
      "source": [
        "This confirms our model having difficulty in classifying negative reviews. This is because the classes were imbalanced i.e., the number of positive classes more than negative. This imbalanced data made model biased towards positive class, so it is not classifying negative reviews correctly. This can be avoided with balanced data & also classes can be balanced using sampling methods such as SMOTE."
      ]
    },
    {
      "cell_type": "markdown",
      "metadata": {
        "id": "V7128Wsa-PtU"
      },
      "source": [
        "### Plot PR (Precesion-Recall) curve"
      ]
    },
    {
      "cell_type": "markdown",
      "metadata": {
        "id": "oNhARlf6-bo2"
      },
      "source": [
        "PR curve is an intuitive measure when evaluating binary classifiers on imbalanced datasets. Since the classes are imbalanced in our data, we are using PR curve as a metric for model evaluation."
      ]
    },
    {
      "cell_type": "code",
      "metadata": {
        "id": "Nyl3LWN7QFAu",
        "colab": {
          "base_uri": "https://localhost:8080/",
          "height": 398
        },
        "outputId": "0a9b429d-3fc9-4e1a-f286-10207689eb7a"
      },
      "source": [
        "# calculate model precision-recall curve\n",
        "precision, recall, _ = precision_recall_curve(y_test, y_pred)\n",
        "# plot the model precision-recall curve\n",
        "plt.plot(recall, precision, marker='.', label='BERT')\n",
        "# axis labels\n",
        "plt.xlabel('Recall')\n",
        "plt.ylabel('Precision')\n",
        "# show the legend\n",
        "plt.legend()\n",
        "# show the plot\n",
        "plt.show()"
      ],
      "execution_count": null,
      "outputs": [
        {
          "output_type": "display_data",
          "data": {
            "image/png": "[encoded data removed]",
            "text/plain": [
              "<Figure size 864x432 with 1 Axes>"
            ]
          },
          "metadata": {
            "tags": [],
            "image/png": {
              "width": 732,
              "height": 381
            }
          }
        }
      ]
    },
    {
      "cell_type": "code",
      "metadata": {
        "id": "lVNRAQtBN5TV",
        "colab": {
          "base_uri": "https://localhost:8080/"
        },
        "outputId": "442d56b4-a152-4f45-84f1-faacd5c65e56"
      },
      "source": [
        "#Calculate AUC_score for PR curve\n",
        "auc_score = auc(recall, precision)\n",
        "print('PR AUC_score: %.3f' % auc_score)"
      ],
      "execution_count": null,
      "outputs": [
        {
          "output_type": "stream",
          "text": [
            "PR AUC_score: 0.578\n"
          ],
          "name": "stdout"
        }
      ]
    },
    {
      "cell_type": "markdown",
      "metadata": {
        "id": "GIpeUaRewWRT"
      },
      "source": [
        "We are getting Area under the curve (AUC) for precision-recall curve is 0.925, this is good enough for model to generalize well on unseen imbalanced dataset."
      ]
    },
    {
      "cell_type": "markdown",
      "metadata": {
        "id": "29rkmAt92MST"
      },
      "source": [
        "Now let's have a look at an example from our test data:"
      ]
    },
    {
      "cell_type": "code",
      "metadata": {
        "id": "mzcqLA3xv8UI",
        "colab": {
          "base_uri": "https://localhost:8080/"
        },
        "outputId": "9c349e0f-6ab5-4efd-e460-0aeebbf4b8be"
      },
      "source": [
        "review_text=y_review_texts[1]\n",
        "true_sentiment=y_test[1]\n",
        "pred_df=pd.DataFrame({\n",
        "    'values':y_pred_probs[1]\n",
        "})\n",
        "\n",
        "print('\\n'.join(wrap(review_text)))\n",
        "print()\n",
        "print(f'True Sentiment : {[true_sentiment]}')"
      ],
      "execution_count": null,
      "outputs": [
        {
          "output_type": "stream",
          "text": [
            "challenging but a very nice follow up to the previous course\n",
            "\n",
            "True Sentiment : [tensor(0)]\n"
          ],
          "name": "stdout"
        }
      ]
    },
    {
      "cell_type": "markdown",
      "metadata": {
        "id": "xbYjpVvI4P8U"
      },
      "source": [
        "Now we look at the confidence of each sentiemt of our model:"
      ]
    },
    {
      "cell_type": "code",
      "metadata": {
        "id": "svoAG2wZ39Pw",
        "colab": {
          "base_uri": "https://localhost:8080/",
          "height": 398
        },
        "outputId": "6d4fc32d-37d4-4352-e30d-19f0b4bd0542"
      },
      "source": [
        "sns.barplot(x='values',data=pred_df,orient='h')\n",
        "plt.xlabel('Probability')\n",
        "plt.ylabel('Sentiment')\n",
        "plt.xlim([0,1]);"
      ],
      "execution_count": null,
      "outputs": [
        {
          "output_type": "display_data",
          "data": {
            "image/png": "[encoded data removed]",
            "text/plain": [
              "<Figure size 864x432 with 1 Axes>"
            ]
          },
          "metadata": {
            "tags": [],
            "image/png": {
              "width": 721,
              "height": 381
            }
          }
        }
      ]
    },
    {
      "cell_type": "markdown",
      "metadata": {
        "id": "7Ek3MDBi6KId"
      },
      "source": [
        "## Predicting on Raw text"
      ]
    },
    {
      "cell_type": "markdown",
      "metadata": {
        "id": "Tccgy1eF6R4z"
      },
      "source": [
        "Let's us use our model to predict sentiment on raw text:"
      ]
    },
    {
      "cell_type": "code",
      "metadata": {
        "id": "NMSZT3UC5Iq-"
      },
      "source": [
        "review_text='Fake Fake Fake Fake Fake, Please be aware of them, they are very dangerous people please be aware of them. \\\n",
        "They ask your pan and aadhara number for interview, the ppl who calls are unprofessional they talk rubbish and try to trap you in pit'"
      ],
      "execution_count": null,
      "outputs": []
    },
    {
      "cell_type": "markdown",
      "metadata": {
        "id": "et60ZTxn7UXE"
      },
      "source": [
        "Now use the tokenizer to encode the raw text:"
      ]
    },
    {
      "cell_type": "code",
      "metadata": {
        "id": "cKskY6YQ7TlU"
      },
      "source": [
        "encoded_review=tokenizer.encode_plus(\n",
        "    review_text,\n",
        "    max_length=Max_length,\n",
        "    add_special_tokens=True,\n",
        "    return_token_type_ids=False,\n",
        "    pad_to_max_length=True,\n",
        "    truncation=True,\n",
        "    return_attention_mask=True,\n",
        "    return_tensors='pt'\n",
        ")"
      ],
      "execution_count": null,
      "outputs": []
    },
    {
      "cell_type": "markdown",
      "metadata": {
        "id": "Zz7H4y9881tZ"
      },
      "source": [
        "Let's get predictions from our model:"
      ]
    },
    {
      "cell_type": "code",
      "metadata": {
        "id": "NmPQhTX98dnn",
        "colab": {
          "base_uri": "https://localhost:8080/"
        },
        "outputId": "ae3215c5-4f6c-4575-83c0-242172a8c8e9"
      },
      "source": [
        "input_ids=encoded_review['input_ids'].to(device)\n",
        "attention_mask=encoded_review['attention_mask'].to(device)\n",
        "\n",
        "output=model(input_ids,attention_mask)\n",
        "_,pred=torch.max(output,dim=1)\n",
        "\n",
        "print(f'Review_text : {review_text}')\n",
        "print(f'Sentiment: {[pred]}')"
      ],
      "execution_count": null,
      "outputs": [
        {
          "output_type": "stream",
          "text": [
            "Review_text : Fake Fake Fake Fake Fake, Please be aware of them, they are very dangerous people please be aware of them. They ask your pan and aadhara number for interview, the ppl who calls are unprofessional they talk rubbish and try to trap you in pit\n",
            "Sentiment: [tensor([0], device='cuda:0')]\n"
          ],
          "name": "stdout"
        }
      ]
    },
    {
      "cell_type": "markdown",
      "metadata": {
        "id": "iFilh7t6-Fdm"
      },
      "source": [
        "Wow, our model is generalizing well. This model can be fine tuned further to improve its performance."
      ]
    },
    {
      "cell_type": "markdown",
      "metadata": {
        "id": "IKQW8bZE6d2k"
      },
      "source": [
        "## Save our model\n"
      ]
    },
    {
      "cell_type": "code",
      "metadata": {
        "id": "ZwvaOkES7u_U"
      },
      "source": [
        "path=\"./Sentiment_Analysis_Bert.bin\"\n",
        "torch.save(model.state_dict(),path)"
      ],
      "execution_count": null,
      "outputs": []
    },
    {
      "cell_type": "markdown",
      "metadata": {
        "id": "ywUCyAo_-Zqz"
      },
      "source": [
        "## References:\n",
        "\n",
        "* [Sentiment analysis with BERT](https://www.curiousily.com/posts/sentiment-analysis-with-bert-and-hugging-face-using-pytorch-and-python/#data-preprocessing)\n",
        "* [ROC & PR curves for imbalanced datasets](https://machinelearningmastery.com/roc-curves-and-precision-recall-curves-for-imbalanced-classification/)\n",
        "* [Evaluation Metrics, ROC-Curves and imbalanced datasets](http://www.davidsbatista.net/blog/2018/08/19/NLP_Metrics/#:~:text=The%20curve%20is%20a%20plot,false%20positives%20and%20false%20negatives.)"
      ]
    },
    {
      "cell_type": "code",
      "metadata": {
        "id": "vrn437Yl89wn"
      },
      "source": [],
      "execution_count": null,
      "outputs": []
    }
  ]
}