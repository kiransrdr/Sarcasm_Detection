{
  "nbformat": 4,
  "nbformat_minor": 0,
  "metadata": {
    "accelerator": "GPU",
    "colab": {
      "provenance": [],
      "collapsed_sections": []
    },
    "kernelspec": {
      "display_name": "Python 3",
      "name": "python3"
    }
  },
  "cells": [
    {
      "cell_type": "code",
      "metadata": {
        "id": "fx3RBlagetZL"
      },
      "source": [
        "import numpy as np # linear algebra\n",
        "import pandas as pd # data processing, CSV file I/O (e.g. pd.read_csv)\n",
        "\n",
        "# Input data files are available in the read-only \"../input/\" directory\n",
        "# For example, running this (by clicking run or pressing Shift+Enter) will list all files under the input directory\n",
        "\n",
        "import os\n",
        "for dirname, _, filenames in os.walk('/kaggle/input'):\n",
        "    for filename in filenames:\n",
        "        print(os.path.join(dirname, filename))\n",
        "\n",
        "# You can write up to 5GB to the current directory (/kaggle/working/) that gets preserved as output when you create a version using \"Save & Run All\" \n",
        "# You can also write temporary files to /kaggle/temp/, but they won't be saved outside of the current session\n",
        "# import packages\n",
        "import json\n",
        "import os \n",
        "import tensorflow as tf\n",
        "import sklearn\n",
        "import seaborn as sbs\n",
        "import sklearn.naive_bayes \n",
        "import sklearn.model_selection\n",
        "import sklearn.metrics\n",
        "import pandas as pd"
      ],
      "execution_count": null,
      "outputs": []
    },
    {
      "cell_type": "code",
      "metadata": {
        "colab": {
          "base_uri": "https://localhost:8080/",
          "height": 419
        },
        "id": "6YfZFk-MfEdM",
        "outputId": "c17b1a41-4ef0-44bc-ffbf-66c3205a5c32"
      },
      "source": [
        "df = pd.read_csv(\"/content/drive/MyDrive/Colab Notebooks/Comments.csv\")\n",
        "df= df.head(25000)\n",
        "# df=df.reset_index()\n",
        "df"
      ],
      "execution_count": null,
      "outputs": [
        {
          "output_type": "execute_result",
          "data": {
            "text/html": [
              "<div>\n",
              "<style scoped>\n",
              "    .dataframe tbody tr th:only-of-type {\n",
              "        vertical-align: middle;\n",
              "    }\n",
              "\n",
              "    .dataframe tbody tr th {\n",
              "        vertical-align: top;\n",
              "    }\n",
              "\n",
              "    .dataframe thead th {\n",
              "        text-align: right;\n",
              "    }\n",
              "</style>\n",
              "<table border=\"1\" class=\"dataframe\">\n",
              "  <thead>\n",
              "    <tr style=\"text-align: right;\">\n",
              "      <th></th>\n",
              "      <th>learner_id</th>\n",
              "      <th>step</th>\n",
              "      <th>text</th>\n",
              "      <th>timestamp</th>\n",
              "      <th>likes</th>\n",
              "      <th>word_count</th>\n",
              "      <th>char_count</th>\n",
              "      <th>SA</th>\n",
              "      <th>completed</th>\n",
              "    </tr>\n",
              "  </thead>\n",
              "  <tbody>\n",
              "    <tr>\n",
              "      <th>0</th>\n",
              "      <td>00000007c103</td>\n",
              "      <td>2.80</td>\n",
              "      <td>interesting and useful !</td>\n",
              "      <td>15/03/2015 7:07</td>\n",
              "      <td>1</td>\n",
              "      <td>4</td>\n",
              "      <td>24</td>\n",
              "      <td>1</td>\n",
              "      <td>1</td>\n",
              "    </tr>\n",
              "    <tr>\n",
              "      <th>1</th>\n",
              "      <td>00000007c103</td>\n",
              "      <td>2.80</td>\n",
              "      <td>I totally learned web development !!!Great Lec...</td>\n",
              "      <td>16/03/2015 5:49</td>\n",
              "      <td>0</td>\n",
              "      <td>7</td>\n",
              "      <td>52</td>\n",
              "      <td>1</td>\n",
              "      <td>1</td>\n",
              "    </tr>\n",
              "    <tr>\n",
              "      <th>2</th>\n",
              "      <td>00000007c103</td>\n",
              "      <td>5.11</td>\n",
              "      <td>Very clear concise and simple explanation</td>\n",
              "      <td>02/04/2015 3:15</td>\n",
              "      <td>0</td>\n",
              "      <td>6</td>\n",
              "      <td>41</td>\n",
              "      <td>1</td>\n",
              "      <td>1</td>\n",
              "    </tr>\n",
              "    <tr>\n",
              "      <th>3</th>\n",
              "      <td>000046e8f020</td>\n",
              "      <td>2.10</td>\n",
              "      <td>Great course. Jogesh has done wonderful job in...</td>\n",
              "      <td>14/11/2015 20:53</td>\n",
              "      <td>2</td>\n",
              "      <td>13</td>\n",
              "      <td>80</td>\n",
              "      <td>1</td>\n",
              "      <td>1</td>\n",
              "    </tr>\n",
              "    <tr>\n",
              "      <th>4</th>\n",
              "      <td>00006b585440</td>\n",
              "      <td>5.11</td>\n",
              "      <td>Perfect introduction course to Big Data</td>\n",
              "      <td>02/12/2015 10:36</td>\n",
              "      <td>1</td>\n",
              "      <td>6</td>\n",
              "      <td>39</td>\n",
              "      <td>1</td>\n",
              "      <td>1</td>\n",
              "    </tr>\n",
              "    <tr>\n",
              "      <th>...</th>\n",
              "      <td>...</td>\n",
              "      <td>...</td>\n",
              "      <td>...</td>\n",
              "      <td>...</td>\n",
              "      <td>...</td>\n",
              "      <td>...</td>\n",
              "      <td>...</td>\n",
              "      <td>...</td>\n",
              "      <td>...</td>\n",
              "    </tr>\n",
              "    <tr>\n",
              "      <th>24995</th>\n",
              "      <td>314ea16d52e1</td>\n",
              "      <td>3.70</td>\n",
              "      <td>Great course for understanding the fundamentals.</td>\n",
              "      <td>01/04/2014 14:38</td>\n",
              "      <td>2</td>\n",
              "      <td>6</td>\n",
              "      <td>48</td>\n",
              "      <td>1</td>\n",
              "      <td>0</td>\n",
              "    </tr>\n",
              "    <tr>\n",
              "      <th>24996</th>\n",
              "      <td>314ea16d52e1</td>\n",
              "      <td>3.90</td>\n",
              "      <td>I liked the course very much. For a foreign sp...</td>\n",
              "      <td>02/04/2014 18:32</td>\n",
              "      <td>1</td>\n",
              "      <td>133</td>\n",
              "      <td>764</td>\n",
              "      <td>1</td>\n",
              "      <td>0</td>\n",
              "    </tr>\n",
              "    <tr>\n",
              "      <th>24997</th>\n",
              "      <td>314ea16d52e1</td>\n",
              "      <td>3.10</td>\n",
              "      <td>One of the best classes in Coursera.I heard ab...</td>\n",
              "      <td>02/04/2014 18:55</td>\n",
              "      <td>0</td>\n",
              "      <td>61</td>\n",
              "      <td>304</td>\n",
              "      <td>1</td>\n",
              "      <td>0</td>\n",
              "    </tr>\n",
              "    <tr>\n",
              "      <th>24998</th>\n",
              "      <td>314ea16d52e1</td>\n",
              "      <td>3.13</td>\n",
              "      <td>Great class for the content I needed. I audite...</td>\n",
              "      <td>02/04/2014 19:19</td>\n",
              "      <td>0</td>\n",
              "      <td>34</td>\n",
              "      <td>200</td>\n",
              "      <td>1</td>\n",
              "      <td>0</td>\n",
              "    </tr>\n",
              "    <tr>\n",
              "      <th>24999</th>\n",
              "      <td>314ea16d52e1</td>\n",
              "      <td>3.13</td>\n",
              "      <td>great material</td>\n",
              "      <td>02/04/2014 19:20</td>\n",
              "      <td>1</td>\n",
              "      <td>2</td>\n",
              "      <td>14</td>\n",
              "      <td>1</td>\n",
              "      <td>0</td>\n",
              "    </tr>\n",
              "  </tbody>\n",
              "</table>\n",
              "<p>25000 rows × 9 columns</p>\n",
              "</div>"
            ],
            "text/plain": [
              "         learner_id  step  ... SA completed\n",
              "0      00000007c103  2.80  ...  1         1\n",
              "1      00000007c103  2.80  ...  1         1\n",
              "2      00000007c103  5.11  ...  1         1\n",
              "3      000046e8f020  2.10  ...  1         1\n",
              "4      00006b585440  5.11  ...  1         1\n",
              "...             ...   ...  ... ..       ...\n",
              "24995  314ea16d52e1  3.70  ...  1         0\n",
              "24996  314ea16d52e1  3.90  ...  1         0\n",
              "24997  314ea16d52e1  3.10  ...  1         0\n",
              "24998  314ea16d52e1  3.13  ...  1         0\n",
              "24999  314ea16d52e1  3.13  ...  1         0\n",
              "\n",
              "[25000 rows x 9 columns]"
            ]
          },
          "metadata": {
            "tags": []
          },
          "execution_count": 2
        }
      ]
    },
    {
      "cell_type": "code",
      "metadata": {
        "colab": {
          "base_uri": "https://localhost:8080/"
        },
        "id": "cCvCHbOLfMz8",
        "outputId": "8aad43e1-6197-4818-f49b-5d8b8d878668"
      },
      "source": [
        "df.completed.value_counts(normalize=True), df.completed.value_counts()"
      ],
      "execution_count": null,
      "outputs": [
        {
          "output_type": "execute_result",
          "data": {
            "text/plain": [
              "(1    0.55548\n",
              " 0    0.44452\n",
              " Name: completed, dtype: float64, 1    13887\n",
              " 0    11113\n",
              " Name: completed, dtype: int64)"
            ]
          },
          "metadata": {
            "tags": []
          },
          "execution_count": 3
        }
      ]
    },
    {
      "cell_type": "code",
      "metadata": {
        "colab": {
          "base_uri": "https://localhost:8080/",
          "height": 350
        },
        "id": "8j_yGeokR_Ns",
        "outputId": "03226827-5c40-4d9c-a9e2-1c60789f321a"
      },
      "source": [
        "import seaborn as sns\n",
        "import matplotlib.pyplot as plt\n",
        "\n",
        "sns.countplot(df.completed)\n",
        "plt.xlabel('completed')"
      ],
      "execution_count": null,
      "outputs": [
        {
          "output_type": "stream",
          "text": [
            "/usr/local/lib/python3.7/dist-packages/seaborn/_decorators.py:43: FutureWarning: Pass the following variable as a keyword arg: x. From version 0.12, the only valid positional argument will be `data`, and passing other arguments without an explicit keyword will result in an error or misinterpretation.\n",
            "  FutureWarning\n"
          ],
          "name": "stderr"
        },
        {
          "output_type": "execute_result",
          "data": {
            "text/plain": [
              "Text(0.5, 0, 'completed')"
            ]
          },
          "metadata": {
            "tags": []
          },
          "execution_count": 4
        },
        {
          "output_type": "display_data",
          "data": {
            "image/png": "[encoded data removed]",
            "text/plain": [
              "<Figure size 432x288 with 1 Axes>"
            ]
          },
          "metadata": {
            "tags": [],
            "needs_background": "light"
          }
        }
      ]
    },
    {
      "cell_type": "code",
      "metadata": {
        "colab": {
          "base_uri": "https://localhost:8080/",
          "height": 351
        },
        "id": "5QaufdjYf-2i",
        "outputId": "9d829136-cfae-43d7-ad7c-3f2e5cb66ea4"
      },
      "source": [
        "# A birdview of headline length. Seems the majority has a length of 70, that's about 5 to 15 words, which makes sence.\n",
        "sbs.distplot(df.text.str.len())"
      ],
      "execution_count": null,
      "outputs": [
        {
          "output_type": "stream",
          "text": [
            "/usr/local/lib/python3.7/dist-packages/seaborn/distributions.py:2557: FutureWarning: `distplot` is a deprecated function and will be removed in a future version. Please adapt your code to use either `displot` (a figure-level function with similar flexibility) or `histplot` (an axes-level function for histograms).\n",
            "  warnings.warn(msg, FutureWarning)\n"
          ],
          "name": "stderr"
        },
        {
          "output_type": "execute_result",
          "data": {
            "text/plain": [
              "<matplotlib.axes._subplots.AxesSubplot at 0x7fc294743390>"
            ]
          },
          "metadata": {
            "tags": []
          },
          "execution_count": 5
        },
        {
          "output_type": "display_data",
          "data": {
            "image/png": "[encoded data removed]",
            "text/plain": [
              "<Figure size 432x288 with 1 Axes>"
            ]
          },
          "metadata": {
            "tags": [],
            "needs_background": "light"
          }
        }
      ]
    },
    {
      "cell_type": "code",
      "metadata": {
        "colab": {
          "base_uri": "https://localhost:8080/"
        },
        "id": "C8-OIUT7imNK",
        "outputId": "3e0e8d31-bc94-4c09-f693-9f8ea2a2f932"
      },
      "source": [
        "\n",
        "# %%time\n",
        "!wget --quiet https://raw.githubusercontent.com/tensorflow/models/master/official/nlp/bert/tokenization.py\n",
        "!pip install sentencepiece\n",
        "import tensorflow_hub as hub \n",
        "import tokenization\n",
        "\n",
        "module_url = 'https://tfhub.dev/tensorflow/bert_en_uncased_L-12_H-768_A-12/2'\n",
        "bert_layer = hub.KerasLayer(module_url, trainable=True)\n",
        "vocab_file = bert_layer.resolved_object.vocab_file.asset_path.numpy()\n",
        "do_lower_case = bert_layer.resolved_object.do_lower_case.numpy()\n",
        "tokenizer = tokenization.FullTokenizer(vocab_file, do_lower_case)\n",
        "import numpy as np\n",
        "def bert_encode(texts, tokenizer, max_len=512):\n",
        "    all_tokens = []\n",
        "    all_masks = []\n",
        "    all_segments = []\n",
        "    \n",
        "    for text in texts:\n",
        "        text = tokenizer.tokenize(text)\n",
        "            \n",
        "        text = text[:max_len-2]\n",
        "        input_sequence = [\"[CLS]\"] + text + [\"[SEP]\"]\n",
        "        pad_len = max_len - len(input_sequence)\n",
        "        \n",
        "        tokens = tokenizer.convert_tokens_to_ids(input_sequence) + [0] * pad_len\n",
        "        pad_masks = [1] * len(input_sequence) + [0] * pad_len\n",
        "        segment_ids = [0] * max_len\n",
        "        \n",
        "        all_tokens.append(tokens)\n",
        "        all_masks.append(pad_masks)\n",
        "        all_segments.append(segment_ids)\n",
        "    \n",
        "    return np.array(all_tokens), np.array(all_masks), np.array(all_segments)\n",
        "\n",
        "def build_model(bert_layer, max_len=512):\n",
        "    input_word_ids = tf.keras.Input(shape=(max_len,), dtype=tf.int32, name=\"input_word_ids\")\n",
        "    input_mask = tf.keras.Input(shape=(max_len,), dtype=tf.int32, name=\"input_mask\")\n",
        "    segment_ids = tf.keras.Input(shape=(max_len,), dtype=tf.int32, name=\"segment_ids\")\n",
        "\n",
        "    pooled_output, sequence_output = bert_layer([input_word_ids, input_mask, segment_ids])\n",
        "    clf_output = sequence_output[:, 0, :]\n",
        "    net = tf.keras.layers.Dense(64, activation='relu',  kernel_regularizer='l1')(clf_output)\n",
        "    net = tf.keras.layers.Dropout(0.9)(net)\n",
        "    net = tf.keras.layers.Dense(32, activation='relu',  kernel_regularizer='l1')(net)\n",
        "    net = tf.keras.layers.Dropout(0.9)(net)\n",
        "    net = tf.keras.layers.Dense(16, activation='relu',  kernel_regularizer='l1')(net)\n",
        "    net = tf.keras.layers.Dropout(0.9)(net)\n",
        "    out = tf.keras.layers.Dense(1, activation='sigmoid')(net)\n",
        "    \n",
        "    # opt = tf.keras.optimizers.Adam(lr=1e-2)\n",
        "    opt1 = tf.keras.optimizers.Adam(learning_rate=0.00001)\n",
        "    model = tf.keras.models.Model(inputs=[input_word_ids, input_mask, segment_ids], outputs=out)\n",
        "    model.compile(optimizer=tf.keras.optimizers.Adam(learning_rate=1), loss='binary_crossentropy', metrics=['accuracy'])\n",
        "    \n",
        "    return model\n"
      ],
      "execution_count": null,
      "outputs": [
        {
          "output_type": "stream",
          "text": [
            "Requirement already satisfied: sentencepiece in /usr/local/lib/python3.7/dist-packages (0.1.95)\n"
          ],
          "name": "stdout"
        }
      ]
    },
    {
      "cell_type": "code",
      "metadata": {
        "id": "yKuC9TLMky63"
      },
      "source": [
        "df=df.dropna()\n",
        "max_len = 100\n",
        "X_train, X_val, y_train, y_val = sklearn.model_selection.train_test_split(df.text, df['completed'],test_size=0.3, random_state=0)\n",
        "X_train = bert_encode(X_train, tokenizer, max_len=max_len)\n",
        "X_val = bert_encode(X_val, tokenizer, max_len=max_len)\n"
      ],
      "execution_count": null,
      "outputs": []
    },
    {
      "cell_type": "code",
      "metadata": {
        "colab": {
          "base_uri": "https://localhost:8080/"
        },
        "id": "7OAlU7rgi0o_",
        "outputId": "044531d6-13f2-43b9-eef1-0d6790bc92a6"
      },
      "source": [
        "model = build_model(bert_layer, max_len=max_len)\n",
        "model.summary()"
      ],
      "execution_count": null,
      "outputs": [
        {
          "output_type": "stream",
          "text": [
            "Model: \"model_2\"\n",
            "__________________________________________________________________________________________________\n",
            "Layer (type)                    Output Shape         Param #     Connected to                     \n",
            "==================================================================================================\n",
            "input_word_ids (InputLayer)     [(None, 100)]        0                                            \n",
            "__________________________________________________________________________________________________\n",
            "input_mask (InputLayer)         [(None, 100)]        0                                            \n",
            "__________________________________________________________________________________________________\n",
            "segment_ids (InputLayer)        [(None, 100)]        0                                            \n",
            "__________________________________________________________________________________________________\n",
            "keras_layer_2 (KerasLayer)      [(None, 768), (None, 109482241   input_word_ids[0][0]             \n",
            "                                                                 input_mask[0][0]                 \n",
            "                                                                 segment_ids[0][0]                \n",
            "__________________________________________________________________________________________________\n",
            "tf.__operators__.getitem_2 (Sli (None, 768)          0           keras_layer_2[0][1]              \n",
            "__________________________________________________________________________________________________\n",
            "dense_8 (Dense)                 (None, 64)           49216       tf.__operators__.getitem_2[0][0] \n",
            "__________________________________________________________________________________________________\n",
            "dropout_6 (Dropout)             (None, 64)           0           dense_8[0][0]                    \n",
            "__________________________________________________________________________________________________\n",
            "dense_9 (Dense)                 (None, 32)           2080        dropout_6[0][0]                  \n",
            "__________________________________________________________________________________________________\n",
            "dropout_7 (Dropout)             (None, 32)           0           dense_9[0][0]                    \n",
            "__________________________________________________________________________________________________\n",
            "dense_10 (Dense)                (None, 16)           528         dropout_7[0][0]                  \n",
            "__________________________________________________________________________________________________\n",
            "dropout_8 (Dropout)             (None, 16)           0           dense_10[0][0]                   \n",
            "__________________________________________________________________________________________________\n",
            "dense_11 (Dense)                (None, 1)            17          dropout_8[0][0]                  \n",
            "==================================================================================================\n",
            "Total params: 109,534,082\n",
            "Trainable params: 109,534,081\n",
            "Non-trainable params: 1\n",
            "__________________________________________________________________________________________________\n"
          ],
          "name": "stdout"
        }
      ]
    },
    {
      "cell_type": "code",
      "metadata": {
        "id": "Z-cpv6hOja92"
      },
      "source": [
        "checkpoint = tf.keras.callbacks.ModelCheckpoint('/content/drive/MyDrive/Colab Notebooks/bertmodel_50000.h5',\n",
        "    monitor='val_accuracy', \n",
        "    save_best_only=False, \n",
        "    verbose=0,\n",
        "    save_weights_only=False,\n",
        "    mode=\"auto\",\n",
        "    save_freq=\"epoch\",)\n",
        "\n",
        "earlystopping = tf.keras.callbacks.EarlyStopping(monitor='val_accuracy', patience=7, verbose=1)\n",
        "train_history = model.fit(X_train, y_train, \n",
        "    # validation_split=0.1,\n",
        "    validation_data=(X_val, y_val),\n",
        "    epochs=10,\n",
        "    callbacks=[checkpoint],\n",
        "    batch_size=64,\n",
        "    verbose=1)\n"
      ],
      "execution_count": null,
      "outputs": []
    },
    {
      "cell_type": "code",
      "metadata": {
        "id": "NRLJ69H4ZJjD"
      },
      "source": [],
      "execution_count": null,
      "outputs": []
    },
    {
      "cell_type": "code",
      "metadata": {
        "id": "dn1MgljATdm4"
      },
      "source": [
        "fig, ax = plt.subplots(1, 2, figsize=(20, 5))\n",
        "ax = ax.ravel()\n",
        "\n",
        "for i, metric in enumerate([\"accuracy\", \"loss\"]):\n",
        "    ax[i].plot(model.history.history[metric])\n",
        "    ax[i].plot(model.history.history[\"val_\" + metric])\n",
        "    ax[i].set_title(\"Model {}\".format(metric))\n",
        "    ax[i].set_xlabel(\"epochs\")\n",
        "    ax[i].set_ylabel(metric)\n",
        "    ax[i].legend([\"train\", \"val\"])"
      ],
      "execution_count": null,
      "outputs": []
    },
    {
      "cell_type": "code",
      "metadata": {
        "id": "trVPGm1Mjhff"
      },
      "source": [
        "# %%time\n",
        "\n",
        "from sklearn.metrics import recall_score\n",
        "\n",
        "# model.load_weights('/content/drive/MyDrive/Colab Notebooks/bertmodel20000.h5') # 4000\n",
        "# model.load_weights('/content/drive/MyDrive/Colab Notebooks/bertmodel_40000_20000.h5')# 40000+30000\n",
        "y_preds = model.predict(X_val).round().astype(int)\n",
        "print(\"Validation accuracy: \", sklearn.metrics.accuracy_score(y_val, y_preds))\n"
      ],
      "execution_count": null,
      "outputs": []
    },
    {
      "cell_type": "code",
      "metadata": {
        "id": "sgL72dCj6h_A"
      },
      "source": [
        "print(recall_score(y_val, y_preds, average='macro'))\n",
        "print(recall_score(y_val, y_preds, average='micro'))\n",
        "print(recall_score(y_val, y_preds, average='weighted'))\n",
        "print(recall_score(y_val, y_preds, average=None))"
      ],
      "execution_count": null,
      "outputs": []
    },
    {
      "cell_type": "code",
      "metadata": {
        "id": "ej7twnuDOc7R"
      },
      "source": [
        "from sklearn.metrics import average_precision_score\n",
        "from sklearn.metrics import accuracy_score\n",
        "from sklearn.metrics import recall_score\n",
        "average_precision = average_precision_score(y_val, y_preds)\n",
        "print(recall_score(y_val, y_preds, average='macro'))\n",
        "print(accuracy_score(y_val, y_preds))\n",
        "print('Average precision-recall score: {0:0.2f}'.format(average_precision))"
      ],
      "execution_count": null,
      "outputs": []
    },
    {
      "cell_type": "code",
      "metadata": {
        "id": "SF2rOGxT4WxF"
      },
      "source": [
        "from sklearn.metrics import precision_recall_fscore_support\n",
        "precision_recall_fscore_support(y_val, y_preds, average='macro')"
      ],
      "execution_count": null,
      "outputs": []
    }
  ]
}